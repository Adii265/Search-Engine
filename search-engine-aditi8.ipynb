{
 "cells": [
  {
   "cell_type": "code",
   "execution_count": 1,
   "metadata": {
    "execution": {
     "iopub.execute_input": "2022-12-07T19:34:38.709524Z",
     "iopub.status.busy": "2022-12-07T19:34:38.709136Z",
     "iopub.status.idle": "2022-12-07T19:34:38.714058Z",
     "shell.execute_reply": "2022-12-07T19:34:38.712976Z",
     "shell.execute_reply.started": "2022-12-07T19:34:38.709494Z"
    }
   },
   "outputs": [],
   "source": [
    "#import os\n",
    "#os.remove(\"/kaggle/working/processed.db\")\n",
    "#os.remove(\"/kaggle/working\")\n",
    "#os.remove(\"\")"
   ]
  },
  {
   "cell_type": "markdown",
   "metadata": {},
   "source": [
    "Libraries"
   ]
  },
  {
   "cell_type": "code",
   "execution_count": 2,
   "metadata": {
    "execution": {
     "iopub.execute_input": "2022-12-07T19:34:38.719014Z",
     "iopub.status.busy": "2022-12-07T19:34:38.718691Z",
     "iopub.status.idle": "2022-12-07T19:34:39.346219Z",
     "shell.execute_reply": "2022-12-07T19:34:39.344950Z",
     "shell.execute_reply.started": "2022-12-07T19:34:38.718986Z"
    }
   },
   "outputs": [
    {
     "name": "stdout",
     "output_type": "stream",
     "text": [
      "1\n"
     ]
    }
   ],
   "source": [
    "import pandas as pd\n",
    "import sqlite3\n",
    "import csv\n",
    "import matplotlib.pyplot as plt\n",
    "import seaborn as sns\n",
    "import numpy as np\n",
    "import scipy.sparse\n",
    "import pickle\n",
    "print(1)\n"
   ]
  },
  {
   "cell_type": "code",
   "execution_count": 3,
   "metadata": {
    "execution": {
     "iopub.execute_input": "2022-12-07T19:34:39.349041Z",
     "iopub.status.busy": "2022-12-07T19:34:39.348364Z",
     "iopub.status.idle": "2022-12-07T19:34:39.980742Z",
     "shell.execute_reply": "2022-12-07T19:34:39.979566Z",
     "shell.execute_reply.started": "2022-12-07T19:34:39.348997Z"
    }
   },
   "outputs": [
    {
     "name": "stdout",
     "output_type": "stream",
     "text": [
      "2\n",
      "3\n",
      "4\n",
      "5\n"
     ]
    }
   ],
   "source": [
    "from sqlite3 import connect\n",
    "from wordcloud import WordCloud\n",
    "from sqlalchemy import create_engine\n",
    "print(2)\n",
    "from nltk.corpus import stopwords\n",
    "from nltk.tokenize import word_tokenize\n",
    "from nltk.stem.snowball import SnowballStemmer\n",
    "print(3)\n",
    "from sklearn.feature_extraction.text import CountVectorizer, TfidfVectorizer\n",
    "from sklearn.metrics import f1_score, precision_score, recall_score, pairwise_distances\n",
    "from sklearn.metrics.pairwise import cosine_similarity\n",
    "from sklearn.linear_model import SGDClassifier\n",
    "print(4)\n",
    "from datetime import datetime\n",
    "import re\n",
    "import os\n",
    "print(5)"
   ]
  },
  {
   "cell_type": "code",
   "execution_count": 4,
   "metadata": {
    "execution": {
     "iopub.execute_input": "2022-12-07T19:34:39.982555Z",
     "iopub.status.busy": "2022-12-07T19:34:39.982199Z"
    }
   },
   "outputs": [
    {
     "name": "stdout",
     "output_type": "stream",
     "text": [
      "False\n",
      "18000 rows\n",
      "36000 rows\n",
      "54000 rows\n",
      "72000 rows\n",
      "90000 rows\n",
      "108000 rows\n",
      "126000 rows\n",
      "144000 rows\n",
      "162000 rows\n",
      "180000 rows\n",
      "198000 rows\n",
      "216000 rows\n",
      "234000 rows\n",
      "252000 rows\n",
      "270000 rows\n",
      "288000 rows\n",
      "306000 rows\n",
      "324000 rows\n",
      "342000 rows\n",
      "360000 rows\n",
      "378000 rows\n",
      "396000 rows\n",
      "414000 rows\n",
      "432000 rows\n",
      "450000 rows\n",
      "468000 rows\n",
      "486000 rows\n",
      "504000 rows\n",
      "522000 rows\n",
      "540000 rows\n",
      "558000 rows\n",
      "576000 rows\n",
      "594000 rows\n",
      "612000 rows\n",
      "630000 rows\n",
      "648000 rows\n",
      "666000 rows\n",
      "684000 rows\n",
      "702000 rows\n",
      "720000 rows\n",
      "738000 rows\n",
      "756000 rows\n",
      "774000 rows\n",
      "792000 rows\n",
      "810000 rows\n",
      "828000 rows\n",
      "846000 rows\n",
      "864000 rows\n",
      "882000 rows\n",
      "900000 rows\n",
      "918000 rows\n",
      "936000 rows\n",
      "954000 rows\n",
      "972000 rows\n",
      "990000 rows\n",
      "1008000 rows\n",
      "1026000 rows\n",
      "1044000 rows\n",
      "1062000 rows\n",
      "1080000 rows\n",
      "1098000 rows\n",
      "1116000 rows\n",
      "1134000 rows\n",
      "1152000 rows\n",
      "1170000 rows\n",
      "1188000 rows\n",
      "1206000 rows\n",
      "1224000 rows\n",
      "1242000 rows\n",
      "1260000 rows\n",
      "1278000 rows\n",
      "1296000 rows\n",
      "1314000 rows\n",
      "1332000 rows\n",
      "1350000 rows\n",
      "1368000 rows\n",
      "1386000 rows\n",
      "1404000 rows\n",
      "1422000 rows\n",
      "1440000 rows\n",
      "1458000 rows\n",
      "1476000 rows\n",
      "1494000 rows\n",
      "1512000 rows\n",
      "1530000 rows\n",
      "1548000 rows\n",
      "1566000 rows\n",
      "1584000 rows\n",
      "1602000 rows\n",
      "1620000 rows\n",
      "1638000 rows\n",
      "1656000 rows\n",
      "1674000 rows\n",
      "1692000 rows\n",
      "1710000 rows\n",
      "1728000 rows\n",
      "1746000 rows\n",
      "1764000 rows\n",
      "1782000 rows\n",
      "1800000 rows\n",
      "1818000 rows\n",
      "1836000 rows\n",
      "1854000 rows\n",
      "1872000 rows\n",
      "1890000 rows\n",
      "1908000 rows\n",
      "1926000 rows\n",
      "1944000 rows\n",
      "1962000 rows\n",
      "1980000 rows\n",
      "1998000 rows\n",
      "2016000 rows\n",
      "2034000 rows\n",
      "2052000 rows\n",
      "2070000 rows\n",
      "2088000 rows\n",
      "2106000 rows\n",
      "2124000 rows\n",
      "2142000 rows\n",
      "2160000 rows\n",
      "2178000 rows\n",
      "2196000 rows\n",
      "2214000 rows\n",
      "2232000 rows\n",
      "2250000 rows\n",
      "2268000 rows\n",
      "2286000 rows\n",
      "2304000 rows\n",
      "2322000 rows\n",
      "2340000 rows\n",
      "2358000 rows\n",
      "2376000 rows\n",
      "2394000 rows\n",
      "2412000 rows\n",
      "2430000 rows\n",
      "2448000 rows\n",
      "2466000 rows\n",
      "2484000 rows\n",
      "2502000 rows\n",
      "2520000 rows\n",
      "2538000 rows\n",
      "2556000 rows\n",
      "2574000 rows\n",
      "2592000 rows\n",
      "2610000 rows\n",
      "2628000 rows\n",
      "2646000 rows\n",
      "2664000 rows\n",
      "2682000 rows\n",
      "2700000 rows\n",
      "2718000 rows\n",
      "2736000 rows\n",
      "2754000 rows\n",
      "2772000 rows\n",
      "2790000 rows\n",
      "2808000 rows\n",
      "2826000 rows\n",
      "2844000 rows\n",
      "2862000 rows\n",
      "2880000 rows\n",
      "2898000 rows\n",
      "2916000 rows\n",
      "2934000 rows\n",
      "2952000 rows\n",
      "2970000 rows\n",
      "2988000 rows\n",
      "3006000 rows\n",
      "3024000 rows\n",
      "3042000 rows\n",
      "3060000 rows\n",
      "3078000 rows\n",
      "3096000 rows\n",
      "3114000 rows\n",
      "3132000 rows\n",
      "3150000 rows\n",
      "3168000 rows\n",
      "3186000 rows\n",
      "3204000 rows\n",
      "3222000 rows\n",
      "3240000 rows\n",
      "3258000 rows\n",
      "3276000 rows\n",
      "3294000 rows\n",
      "3312000 rows\n",
      "3330000 rows\n",
      "3348000 rows\n",
      "3366000 rows\n",
      "3384000 rows\n",
      "3402000 rows\n",
      "3420000 rows\n",
      "3438000 rows\n",
      "3456000 rows\n",
      "3474000 rows\n",
      "3492000 rows\n",
      "3510000 rows\n",
      "3528000 rows\n",
      "3546000 rows\n",
      "3564000 rows\n",
      "3582000 rows\n",
      "3600000 rows\n",
      "3618000 rows\n",
      "3636000 rows\n",
      "3654000 rows\n",
      "3672000 rows\n",
      "3690000 rows\n",
      "3708000 rows\n",
      "3726000 rows\n",
      "3744000 rows\n",
      "3762000 rows\n",
      "3780000 rows\n",
      "3798000 rows\n",
      "3816000 rows\n",
      "3834000 rows\n",
      "3852000 rows\n",
      "3870000 rows\n",
      "3888000 rows\n",
      "3906000 rows\n",
      "3924000 rows\n",
      "3942000 rows\n",
      "3960000 rows\n",
      "3978000 rows\n",
      "3996000 rows\n",
      "4014000 rows\n",
      "4032000 rows\n",
      "4050000 rows\n",
      "4068000 rows\n",
      "4086000 rows\n",
      "4104000 rows\n",
      "4122000 rows\n",
      "4140000 rows\n",
      "4158000 rows\n",
      "4176000 rows\n",
      "4194000 rows\n",
      "4212000 rows\n",
      "4230000 rows\n",
      "4248000 rows\n",
      "4266000 rows\n",
      "4284000 rows\n",
      "4302000 rows\n",
      "4320000 rows\n",
      "4338000 rows\n",
      "4356000 rows\n",
      "4374000 rows\n",
      "4392000 rows\n",
      "4410000 rows\n",
      "4428000 rows\n",
      "4446000 rows\n",
      "4464000 rows\n",
      "4482000 rows\n",
      "4500000 rows\n",
      "4518000 rows\n",
      "4536000 rows\n",
      "4554000 rows\n",
      "4572000 rows\n",
      "4590000 rows\n",
      "4608000 rows\n",
      "4626000 rows\n",
      "4644000 rows\n",
      "4662000 rows\n",
      "4680000 rows\n",
      "4698000 rows\n",
      "4716000 rows\n",
      "4734000 rows\n",
      "4752000 rows\n",
      "4770000 rows\n",
      "4788000 rows\n",
      "4806000 rows\n",
      "4824000 rows\n",
      "4842000 rows\n",
      "4860000 rows\n",
      "4878000 rows\n",
      "4896000 rows\n",
      "4914000 rows\n",
      "4932000 rows\n",
      "4950000 rows\n",
      "4968000 rows\n",
      "4986000 rows\n",
      "5004000 rows\n",
      "5022000 rows\n",
      "5040000 rows\n",
      "5058000 rows\n",
      "5076000 rows\n",
      "5094000 rows\n",
      "5112000 rows\n",
      "5130000 rows\n",
      "5148000 rows\n",
      "5166000 rows\n",
      "5184000 rows\n",
      "5202000 rows\n",
      "5220000 rows\n",
      "5238000 rows\n",
      "5256000 rows\n",
      "5274000 rows\n",
      "5292000 rows\n",
      "5310000 rows\n",
      "5328000 rows\n",
      "5346000 rows\n",
      "5364000 rows\n",
      "5382000 rows\n",
      "5400000 rows\n",
      "5418000 rows\n",
      "5436000 rows\n",
      "5454000 rows\n",
      "5472000 rows\n",
      "5490000 rows\n",
      "5508000 rows\n",
      "5526000 rows\n",
      "5544000 rows\n",
      "5562000 rows\n",
      "5580000 rows\n",
      "5598000 rows\n",
      "5616000 rows\n",
      "5634000 rows\n",
      "5652000 rows\n",
      "5670000 rows\n",
      "5688000 rows\n",
      "5706000 rows\n",
      "5724000 rows\n",
      "5742000 rows\n",
      "5760000 rows\n",
      "5778000 rows\n",
      "5796000 rows\n",
      "5814000 rows\n",
      "5832000 rows\n",
      "5850000 rows\n",
      "5868000 rows\n",
      "5886000 rows\n",
      "5904000 rows\n",
      "5922000 rows\n",
      "5940000 rows\n",
      "5958000 rows\n",
      "5976000 rows\n",
      "5994000 rows\n",
      "6012000 rows\n",
      "6030000 rows\n",
      "6048000 rows\n",
      "Time to run  0:02:01.099982\n"
     ]
    }
   ],
   "source": [
    "print(os.path.isfile('train.db'))\n",
    "if not os.path.isfile('train.db'):\n",
    "    #print(1)\n",
    "    start = datetime.now()\n",
    "    disk_engine = create_engine('sqlite:///train.db')\n",
    "    start = datetime.now()\n",
    "    chunksize = 18000\n",
    "    j = 0\n",
    "    index_start = 1\n",
    "    for df in pd.read_csv('C:/Users/MOHIT/OneDrive/Desktop/Train.csv', names = \n",
    "                        ['Id','Title', 'Body','Tags'], chunksize = chunksize, iterator = True, encoding = 'utf-8') : \n",
    "        df.index += index_start\n",
    "        j+=1\n",
    "        print( '{} rows'.format(j*chunksize))\n",
    "        df.to_sql('data', disk_engine, if_exists = 'append')\n",
    "        index_start = df.index[-1] +1\n",
    "    print(\"Time to run \",datetime.now()-start)\n",
    "    #df.head(20)"
   ]
  },
  {
   "cell_type": "code",
   "execution_count": 5,
   "metadata": {
    "id": "SfjVa8AnrkEK"
   },
   "outputs": [
    {
     "data": {
      "text/html": [
       "<div>\n",
       "<style scoped>\n",
       "    .dataframe tbody tr th:only-of-type {\n",
       "        vertical-align: middle;\n",
       "    }\n",
       "\n",
       "    .dataframe tbody tr th {\n",
       "        vertical-align: top;\n",
       "    }\n",
       "\n",
       "    .dataframe thead th {\n",
       "        text-align: right;\n",
       "    }\n",
       "</style>\n",
       "<table border=\"1\" class=\"dataframe\">\n",
       "  <thead>\n",
       "    <tr style=\"text-align: right;\">\n",
       "      <th></th>\n",
       "      <th>Id</th>\n",
       "      <th>Title</th>\n",
       "      <th>Body</th>\n",
       "      <th>Tags</th>\n",
       "    </tr>\n",
       "  </thead>\n",
       "  <tbody>\n",
       "    <tr>\n",
       "      <th>1019070001</th>\n",
       "      <td>6030000</td>\n",
       "      <td>rdiff-backup restoring directories without sub...</td>\n",
       "      <td>&lt;p&gt;Is there a way to restore rdiff-backup gene...</td>\n",
       "      <td>backup restore rdiff-backup</td>\n",
       "    </tr>\n",
       "    <tr>\n",
       "      <th>1019070002</th>\n",
       "      <td>6030001</td>\n",
       "      <td>How do I restrict a users access to an object?</td>\n",
       "      <td>&lt;p&gt;Hi Sitepoint wizard people,&lt;/p&gt;\\n\\n&lt;p&gt;Say w...</td>\n",
       "      <td>mvc authorization access-control</td>\n",
       "    </tr>\n",
       "    <tr>\n",
       "      <th>1019070003</th>\n",
       "      <td>6030002</td>\n",
       "      <td>Multithread testing</td>\n",
       "      <td>&lt;p&gt;I have a task to firstly write a multithrea...</td>\n",
       "      <td>java multithreading testing</td>\n",
       "    </tr>\n",
       "    <tr>\n",
       "      <th>1019070004</th>\n",
       "      <td>6030003</td>\n",
       "      <td>Check whether a file is open in Matlab</td>\n",
       "      <td>&lt;p&gt;I'm downloading some big files(2GB) and als...</td>\n",
       "      <td>file matlab ubuntu filesystems</td>\n",
       "    </tr>\n",
       "    <tr>\n",
       "      <th>1019070005</th>\n",
       "      <td>6030004</td>\n",
       "      <td>Coherent read-only view of a database</td>\n",
       "      <td>&lt;p&gt;I would like to perform a select query that...</td>\n",
       "      <td>sql database</td>\n",
       "    </tr>\n",
       "    <tr>\n",
       "      <th>1019070006</th>\n",
       "      <td>6030005</td>\n",
       "      <td>How to properly close a socket after an except...</td>\n",
       "      <td>&lt;p&gt;After my last project I had the problem tha...</td>\n",
       "      <td>java exception-handling sockets</td>\n",
       "    </tr>\n",
       "    <tr>\n",
       "      <th>1019070007</th>\n",
       "      <td>6030006</td>\n",
       "      <td>Appending a GET-Variable to wp_nav_menu</td>\n",
       "      <td>&lt;p&gt;I'm creating a menu with the wp_nav_menu() ...</td>\n",
       "      <td>menus</td>\n",
       "    </tr>\n",
       "    <tr>\n",
       "      <th>1019070008</th>\n",
       "      <td>6030007</td>\n",
       "      <td>SaveAs Method for ApplicationSettingsBase</td>\n",
       "      <td>&lt;p&gt;How can I do a &lt;em&gt;SaveAs(string file)&lt;/em&gt;...</td>\n",
       "      <td>.net configuration-files</td>\n",
       "    </tr>\n",
       "    <tr>\n",
       "      <th>1019070009</th>\n",
       "      <td>6030008</td>\n",
       "      <td>ModalViewCOntroller in NavigationController</td>\n",
       "      <td>&lt;p&gt;I have a NavigationController that present ...</td>\n",
       "      <td>iphone objective-c data uinavigationcontroller...</td>\n",
       "    </tr>\n",
       "    <tr>\n",
       "      <th>1019070010</th>\n",
       "      <td>6030009</td>\n",
       "      <td>WCF service reference Client config not config...</td>\n",
       "      <td>&lt;p&gt;I am very new to WCF Web service. I am deve...</td>\n",
       "      <td>c# wcf windows-phone-7</td>\n",
       "    </tr>\n",
       "    <tr>\n",
       "      <th>1019070011</th>\n",
       "      <td>6030010</td>\n",
       "      <td>How to periodically sync sharded data  with da...</td>\n",
       "      <td>&lt;p&gt;I am developing an application on Google ap...</td>\n",
       "      <td>dynamic gae-datastore sync backend sharding</td>\n",
       "    </tr>\n",
       "    <tr>\n",
       "      <th>1019070012</th>\n",
       "      <td>6030011</td>\n",
       "      <td>Facebook Connect settings for popup dialog</td>\n",
       "      <td>&lt;p&gt;I'm in the process of implementing Facebook...</td>\n",
       "      <td>facebook dialog connect</td>\n",
       "    </tr>\n",
       "    <tr>\n",
       "      <th>1019070013</th>\n",
       "      <td>6030012</td>\n",
       "      <td>order of validation summary control messages</td>\n",
       "      <td>&lt;p&gt;Can any one of you help me in controlling &lt;...</td>\n",
       "      <td>validation order</td>\n",
       "    </tr>\n",
       "    <tr>\n",
       "      <th>1019070014</th>\n",
       "      <td>6030013</td>\n",
       "      <td>Can I create a separate stylesheet for IE?</td>\n",
       "      <td>&lt;p&gt;I created my website using a mac. As you kn...</td>\n",
       "      <td>html css internet-explorer</td>\n",
       "    </tr>\n",
       "    <tr>\n",
       "      <th>1019070015</th>\n",
       "      <td>6030014</td>\n",
       "      <td>How to migrate Munin graph history</td>\n",
       "      <td>&lt;p&gt;I have a pretty basic munin configuration, ...</td>\n",
       "      <td>migration munin</td>\n",
       "    </tr>\n",
       "    <tr>\n",
       "      <th>1019070016</th>\n",
       "      <td>6030015</td>\n",
       "      <td>Android Notification from server</td>\n",
       "      <td>&lt;p&gt;My problem statement is as follows :-&lt;/p&gt;\\n...</td>\n",
       "      <td>android notifications push-notification androi...</td>\n",
       "    </tr>\n",
       "    <tr>\n",
       "      <th>1019070017</th>\n",
       "      <td>6030016</td>\n",
       "      <td>Rails 3.1 + Daemons gem won't let me access my...</td>\n",
       "      <td>&lt;p&gt;I'm trying to setup a daemon for my Rails 3...</td>\n",
       "      <td>mysql ruby-on-rails ruby-on-rails-3 scripting ...</td>\n",
       "    </tr>\n",
       "    <tr>\n",
       "      <th>1019070018</th>\n",
       "      <td>6030017</td>\n",
       "      <td>What is the performance difference between nat...</td>\n",
       "      <td>&lt;p&gt;I have non-interactive 2d animation applica...</td>\n",
       "      <td>android</td>\n",
       "    </tr>\n",
       "    <tr>\n",
       "      <th>1019070019</th>\n",
       "      <td>6030018</td>\n",
       "      <td>Looking for iPhone equivalent code for Android...</td>\n",
       "      <td>&lt;p&gt;I have android web service code, which has ...</td>\n",
       "      <td>iphone android web-services</td>\n",
       "    </tr>\n",
       "    <tr>\n",
       "      <th>1019070020</th>\n",
       "      <td>6030019</td>\n",
       "      <td>C# remove nulls from the end of Byte[512]</td>\n",
       "      <td>&lt;p&gt;What is the best way to remove the extra 00...</td>\n",
       "      <td>c# arrays null byte trim</td>\n",
       "    </tr>\n",
       "  </tbody>\n",
       "</table>\n",
       "</div>"
      ],
      "text/plain": [
       "                 Id                                              Title  \\\n",
       "1019070001  6030000  rdiff-backup restoring directories without sub...   \n",
       "1019070002  6030001     How do I restrict a users access to an object?   \n",
       "1019070003  6030002                                Multithread testing   \n",
       "1019070004  6030003             Check whether a file is open in Matlab   \n",
       "1019070005  6030004              Coherent read-only view of a database   \n",
       "1019070006  6030005  How to properly close a socket after an except...   \n",
       "1019070007  6030006            Appending a GET-Variable to wp_nav_menu   \n",
       "1019070008  6030007          SaveAs Method for ApplicationSettingsBase   \n",
       "1019070009  6030008        ModalViewCOntroller in NavigationController   \n",
       "1019070010  6030009  WCF service reference Client config not config...   \n",
       "1019070011  6030010  How to periodically sync sharded data  with da...   \n",
       "1019070012  6030011         Facebook Connect settings for popup dialog   \n",
       "1019070013  6030012       order of validation summary control messages   \n",
       "1019070014  6030013         Can I create a separate stylesheet for IE?   \n",
       "1019070015  6030014                 How to migrate Munin graph history   \n",
       "1019070016  6030015                   Android Notification from server   \n",
       "1019070017  6030016  Rails 3.1 + Daemons gem won't let me access my...   \n",
       "1019070018  6030017  What is the performance difference between nat...   \n",
       "1019070019  6030018  Looking for iPhone equivalent code for Android...   \n",
       "1019070020  6030019          C# remove nulls from the end of Byte[512]   \n",
       "\n",
       "                                                         Body  \\\n",
       "1019070001  <p>Is there a way to restore rdiff-backup gene...   \n",
       "1019070002  <p>Hi Sitepoint wizard people,</p>\\n\\n<p>Say w...   \n",
       "1019070003  <p>I have a task to firstly write a multithrea...   \n",
       "1019070004  <p>I'm downloading some big files(2GB) and als...   \n",
       "1019070005  <p>I would like to perform a select query that...   \n",
       "1019070006  <p>After my last project I had the problem tha...   \n",
       "1019070007  <p>I'm creating a menu with the wp_nav_menu() ...   \n",
       "1019070008  <p>How can I do a <em>SaveAs(string file)</em>...   \n",
       "1019070009  <p>I have a NavigationController that present ...   \n",
       "1019070010  <p>I am very new to WCF Web service. I am deve...   \n",
       "1019070011  <p>I am developing an application on Google ap...   \n",
       "1019070012  <p>I'm in the process of implementing Facebook...   \n",
       "1019070013  <p>Can any one of you help me in controlling <...   \n",
       "1019070014  <p>I created my website using a mac. As you kn...   \n",
       "1019070015  <p>I have a pretty basic munin configuration, ...   \n",
       "1019070016  <p>My problem statement is as follows :-</p>\\n...   \n",
       "1019070017  <p>I'm trying to setup a daemon for my Rails 3...   \n",
       "1019070018  <p>I have non-interactive 2d animation applica...   \n",
       "1019070019  <p>I have android web service code, which has ...   \n",
       "1019070020  <p>What is the best way to remove the extra 00...   \n",
       "\n",
       "                                                         Tags  \n",
       "1019070001                        backup restore rdiff-backup  \n",
       "1019070002                   mvc authorization access-control  \n",
       "1019070003                        java multithreading testing  \n",
       "1019070004                     file matlab ubuntu filesystems  \n",
       "1019070005                                       sql database  \n",
       "1019070006                    java exception-handling sockets  \n",
       "1019070007                                              menus  \n",
       "1019070008                           .net configuration-files  \n",
       "1019070009  iphone objective-c data uinavigationcontroller...  \n",
       "1019070010                             c# wcf windows-phone-7  \n",
       "1019070011        dynamic gae-datastore sync backend sharding  \n",
       "1019070012                            facebook dialog connect  \n",
       "1019070013                                   validation order  \n",
       "1019070014                         html css internet-explorer  \n",
       "1019070015                                    migration munin  \n",
       "1019070016  android notifications push-notification androi...  \n",
       "1019070017  mysql ruby-on-rails ruby-on-rails-3 scripting ...  \n",
       "1019070018                                            android  \n",
       "1019070019                        iphone android web-services  \n",
       "1019070020                           c# arrays null byte trim  "
      ]
     },
     "execution_count": 5,
     "metadata": {},
     "output_type": "execute_result"
    }
   ],
   "source": [
    "df.head(20)"
   ]
  },
  {
   "cell_type": "code",
   "execution_count": 6,
   "metadata": {
    "id": "_p6BFHAkbdBM"
   },
   "outputs": [
    {
     "name": "stdout",
     "output_type": "stream",
     "text": [
      "Total rows in training set =  0    6034196\n",
      "Name: count(*), dtype: int64\n"
     ]
    }
   ],
   "source": [
    "con = sqlite3.connect('train.db')\n",
    "count = pd.read_sql_query(\"\"\"SELECT count(*) FROM data LIMIT 30000\"\"\", con)\n",
    "print(\"Total rows in training set = \", count[\"count(*)\"])"
   ]
  },
  {
   "cell_type": "markdown",
   "metadata": {
    "execution": {
     "iopub.execute_input": "2022-12-07T12:50:10.076639Z",
     "iopub.status.busy": "2022-12-07T12:50:10.076188Z",
     "iopub.status.idle": "2022-12-07T12:50:10.090512Z",
     "shell.execute_reply": "2022-12-07T12:50:10.083135Z",
     "shell.execute_reply.started": "2022-12-07T12:50:10.076601Z"
    }
   },
   "source": [
    "There are approx 60 lakhs data in the dataset"
   ]
  },
  {
   "cell_type": "code",
   "execution_count": 7,
   "metadata": {
    "id": "lxjJ28CzcGJ8"
   },
   "outputs": [
    {
     "data": {
      "text/plain": [
       "16825260"
      ]
     },
     "execution_count": 7,
     "metadata": {},
     "output_type": "execute_result"
    }
   ],
   "source": [
    "con.close()\n",
    "con = sqlite3.connect('train.db')\n",
    "df = pd.read_sql_query('SELECT Title, Body, Tags, COUNT(*) as cnt_dup FROM data GROUP BY Title, Body, Tags',con)\n",
    "con.close()\n",
    "df.size"
   ]
  },
  {
   "cell_type": "code",
   "execution_count": 8,
   "metadata": {},
   "outputs": [
    {
     "data": {
      "text/html": [
       "<div>\n",
       "<style scoped>\n",
       "    .dataframe tbody tr th:only-of-type {\n",
       "        vertical-align: middle;\n",
       "    }\n",
       "\n",
       "    .dataframe tbody tr th {\n",
       "        vertical-align: top;\n",
       "    }\n",
       "\n",
       "    .dataframe thead th {\n",
       "        text-align: right;\n",
       "    }\n",
       "</style>\n",
       "<table border=\"1\" class=\"dataframe\">\n",
       "  <thead>\n",
       "    <tr style=\"text-align: right;\">\n",
       "      <th></th>\n",
       "      <th>Title</th>\n",
       "      <th>Body</th>\n",
       "      <th>Tags</th>\n",
       "      <th>cnt_dup</th>\n",
       "    </tr>\n",
       "  </thead>\n",
       "  <tbody>\n",
       "    <tr>\n",
       "      <th>0</th>\n",
       "      <td>Implementing Boundary Value Analysis of S...</td>\n",
       "      <td>&lt;pre&gt;&lt;code&gt;#include&amp;lt;iostream&amp;gt;\\n#include&amp;...</td>\n",
       "      <td>c++ c</td>\n",
       "      <td>1</td>\n",
       "    </tr>\n",
       "    <tr>\n",
       "      <th>1</th>\n",
       "      <td>Dynamic Datagrid Binding in Silverlight?</td>\n",
       "      <td>&lt;p&gt;I should do binding for datagrid dynamicall...</td>\n",
       "      <td>c# silverlight data-binding</td>\n",
       "      <td>1</td>\n",
       "    </tr>\n",
       "    <tr>\n",
       "      <th>2</th>\n",
       "      <td>Dynamic Datagrid Binding in Silverlight?</td>\n",
       "      <td>&lt;p&gt;I should do binding for datagrid dynamicall...</td>\n",
       "      <td>c# silverlight data-binding columns</td>\n",
       "      <td>1</td>\n",
       "    </tr>\n",
       "    <tr>\n",
       "      <th>3</th>\n",
       "      <td>java.lang.NoClassDefFoundError: javax/serv...</td>\n",
       "      <td>&lt;p&gt;I followed the guide in &lt;a href=\"http://sta...</td>\n",
       "      <td>jsp jstl</td>\n",
       "      <td>1</td>\n",
       "    </tr>\n",
       "    <tr>\n",
       "      <th>4</th>\n",
       "      <td>java.sql.SQLException:[Microsoft][ODBC Dri...</td>\n",
       "      <td>&lt;p&gt;I use the following code&lt;/p&gt;\\n\\n&lt;pre&gt;&lt;code&gt;...</td>\n",
       "      <td>java jdbc</td>\n",
       "      <td>2</td>\n",
       "    </tr>\n",
       "    <tr>\n",
       "      <th>5</th>\n",
       "      <td>Better way to update feed on FB with PHP SDK</td>\n",
       "      <td>&lt;p&gt;I am a novice with the Facebook API. I have...</td>\n",
       "      <td>facebook api facebook-php-sdk</td>\n",
       "      <td>1</td>\n",
       "    </tr>\n",
       "    <tr>\n",
       "      <th>6</th>\n",
       "      <td>btnAdd click event opens two window after r...</td>\n",
       "      <td>&lt;p&gt;i m opening window(search.aspx)using below ...</td>\n",
       "      <td>javascript asp.net web</td>\n",
       "      <td>3</td>\n",
       "    </tr>\n",
       "    <tr>\n",
       "      <th>7</th>\n",
       "      <td>\"SQL Injection\" issue preventing correct for...</td>\n",
       "      <td>&lt;p&gt;So I've been checking everything I can thin...</td>\n",
       "      <td>php forms</td>\n",
       "      <td>1</td>\n",
       "    </tr>\n",
       "    <tr>\n",
       "      <th>8</th>\n",
       "      <td>Countable subadditivity of the Lebesgue measure</td>\n",
       "      <td>&lt;p&gt;Let $\\lbrace F_n \\rbrace$ be a sequence of ...</td>\n",
       "      <td>real-analysis measure-theory</td>\n",
       "      <td>3</td>\n",
       "    </tr>\n",
       "    <tr>\n",
       "      <th>9</th>\n",
       "      <td>HQL equivalent to this Sql Query</td>\n",
       "      <td>&lt;pre&gt;&lt;code&gt;select part.PaId,part.PaName,part.P...</td>\n",
       "      <td>hibernate hql</td>\n",
       "      <td>2</td>\n",
       "    </tr>\n",
       "    <tr>\n",
       "      <th>10</th>\n",
       "      <td>Undefined symbols for architecture i386: _OB...</td>\n",
       "      <td>&lt;p&gt;I have imported framework for sending email...</td>\n",
       "      <td>iphone email-integration</td>\n",
       "      <td>1</td>\n",
       "    </tr>\n",
       "    <tr>\n",
       "      <th>11</th>\n",
       "      <td>java.lang.NoSuchMethodError: javax.servlet.S...</td>\n",
       "      <td>&lt;p&gt;i want to have a servlet to process inputs ...</td>\n",
       "      <td>java servlets jboss</td>\n",
       "      <td>1</td>\n",
       "    </tr>\n",
       "    <tr>\n",
       "      <th>12</th>\n",
       "      <td>obtaining updated locations using gps in ser...</td>\n",
       "      <td>&lt;p&gt;I have app in which i have two buttons &lt;str...</td>\n",
       "      <td>android android-widget android-service</td>\n",
       "      <td>1</td>\n",
       "    </tr>\n",
       "    <tr>\n",
       "      <th>13</th>\n",
       "      <td>\"Specified initialization vector (IV) does no...</td>\n",
       "      <td>&lt;p&gt;I've had troubles using an CryptoStream for...</td>\n",
       "      <td>c# .net rijndaelmanaged cryptostream</td>\n",
       "      <td>1</td>\n",
       "    </tr>\n",
       "    <tr>\n",
       "      <th>14</th>\n",
       "      <td>\"Uncaught TypeError: Property 'addListGroup' ...</td>\n",
       "      <td>&lt;p&gt;Asked this the other day but didn't get a r...</td>\n",
       "      <td>javascript listbox</td>\n",
       "      <td>2</td>\n",
       "    </tr>\n",
       "    <tr>\n",
       "      <th>15</th>\n",
       "      <td>\"subquery returns more than 1 row\" error.</td>\n",
       "      <td>&lt;p&gt;I am new to web programming and I'm trying ...</td>\n",
       "      <td>sql subquery</td>\n",
       "      <td>1</td>\n",
       "    </tr>\n",
       "    <tr>\n",
       "      <th>16</th>\n",
       "      <td>\"while( !feof( file ) )\" is always wrong</td>\n",
       "      <td>&lt;p&gt;I've started seeing &lt;code&gt;while( !feof( f )...</td>\n",
       "      <td>c feof</td>\n",
       "      <td>3</td>\n",
       "    </tr>\n",
       "    <tr>\n",
       "      <th>17</th>\n",
       "      <td>$ \\sum\\limits_{i=1}^{p-1} \\Bigl( \\Bigl\\lfloor...</td>\n",
       "      <td>&lt;p&gt;I was working out some problems. This is gi...</td>\n",
       "      <td>number-theory functions inequality</td>\n",
       "      <td>2</td>\n",
       "    </tr>\n",
       "    <tr>\n",
       "      <th>18</th>\n",
       "      <td>$5^{x}+2^{y}=2^{x}+5^{y} =\\frac{7}{10}$ Work ...</td>\n",
       "      <td>&lt;p&gt;$5^{x}+2^{y}=2^{x}+5^{y} =\\frac{7}{10}$\\nWo...</td>\n",
       "      <td>exponentiation</td>\n",
       "      <td>1</td>\n",
       "    </tr>\n",
       "    <tr>\n",
       "      <th>19</th>\n",
       "      <td>$\\mathbb{Z}_m \\oplus \\mathbb{Z}_n$ isomorphic...</td>\n",
       "      <td>&lt;p&gt;I would like to know if, when $\\gcd(m,n)=1$...</td>\n",
       "      <td>abstract-algebra modules</td>\n",
       "      <td>2</td>\n",
       "    </tr>\n",
       "  </tbody>\n",
       "</table>\n",
       "</div>"
      ],
      "text/plain": [
       "                                                Title  \\\n",
       "0        Implementing Boundary Value Analysis of S...   \n",
       "1            Dynamic Datagrid Binding in Silverlight?   \n",
       "2            Dynamic Datagrid Binding in Silverlight?   \n",
       "3       java.lang.NoClassDefFoundError: javax/serv...   \n",
       "4       java.sql.SQLException:[Microsoft][ODBC Dri...   \n",
       "5        Better way to update feed on FB with PHP SDK   \n",
       "6      btnAdd click event opens two window after r...   \n",
       "7     \"SQL Injection\" issue preventing correct for...   \n",
       "8     Countable subadditivity of the Lebesgue measure   \n",
       "9                    HQL equivalent to this Sql Query   \n",
       "10    Undefined symbols for architecture i386: _OB...   \n",
       "11    java.lang.NoSuchMethodError: javax.servlet.S...   \n",
       "12    obtaining updated locations using gps in ser...   \n",
       "13   \"Specified initialization vector (IV) does no...   \n",
       "14   \"Uncaught TypeError: Property 'addListGroup' ...   \n",
       "15          \"subquery returns more than 1 row\" error.   \n",
       "16           \"while( !feof( file ) )\" is always wrong   \n",
       "17   $ \\sum\\limits_{i=1}^{p-1} \\Bigl( \\Bigl\\lfloor...   \n",
       "18   $5^{x}+2^{y}=2^{x}+5^{y} =\\frac{7}{10}$ Work ...   \n",
       "19   $\\mathbb{Z}_m \\oplus \\mathbb{Z}_n$ isomorphic...   \n",
       "\n",
       "                                                 Body  \\\n",
       "0   <pre><code>#include&lt;iostream&gt;\\n#include&...   \n",
       "1   <p>I should do binding for datagrid dynamicall...   \n",
       "2   <p>I should do binding for datagrid dynamicall...   \n",
       "3   <p>I followed the guide in <a href=\"http://sta...   \n",
       "4   <p>I use the following code</p>\\n\\n<pre><code>...   \n",
       "5   <p>I am a novice with the Facebook API. I have...   \n",
       "6   <p>i m opening window(search.aspx)using below ...   \n",
       "7   <p>So I've been checking everything I can thin...   \n",
       "8   <p>Let $\\lbrace F_n \\rbrace$ be a sequence of ...   \n",
       "9   <pre><code>select part.PaId,part.PaName,part.P...   \n",
       "10  <p>I have imported framework for sending email...   \n",
       "11  <p>i want to have a servlet to process inputs ...   \n",
       "12  <p>I have app in which i have two buttons <str...   \n",
       "13  <p>I've had troubles using an CryptoStream for...   \n",
       "14  <p>Asked this the other day but didn't get a r...   \n",
       "15  <p>I am new to web programming and I'm trying ...   \n",
       "16  <p>I've started seeing <code>while( !feof( f )...   \n",
       "17  <p>I was working out some problems. This is gi...   \n",
       "18  <p>$5^{x}+2^{y}=2^{x}+5^{y} =\\frac{7}{10}$\\nWo...   \n",
       "19  <p>I would like to know if, when $\\gcd(m,n)=1$...   \n",
       "\n",
       "                                      Tags  cnt_dup  \n",
       "0                                    c++ c        1  \n",
       "1              c# silverlight data-binding        1  \n",
       "2      c# silverlight data-binding columns        1  \n",
       "3                                 jsp jstl        1  \n",
       "4                                java jdbc        2  \n",
       "5            facebook api facebook-php-sdk        1  \n",
       "6                   javascript asp.net web        3  \n",
       "7                                php forms        1  \n",
       "8             real-analysis measure-theory        3  \n",
       "9                            hibernate hql        2  \n",
       "10                iphone email-integration        1  \n",
       "11                     java servlets jboss        1  \n",
       "12  android android-widget android-service        1  \n",
       "13    c# .net rijndaelmanaged cryptostream        1  \n",
       "14                      javascript listbox        2  \n",
       "15                            sql subquery        1  \n",
       "16                                  c feof        3  \n",
       "17      number-theory functions inequality        2  \n",
       "18                          exponentiation        1  \n",
       "19                abstract-algebra modules        2  "
      ]
     },
     "execution_count": 8,
     "metadata": {},
     "output_type": "execute_result"
    }
   ],
   "source": [
    "df.head(20)"
   ]
  },
  {
   "cell_type": "code",
   "execution_count": 9,
   "metadata": {},
   "outputs": [
    {
     "data": {
      "text/plain": [
       "<AxesSubplot:>"
      ]
     },
     "execution_count": 9,
     "metadata": {},
     "output_type": "execute_result"
    },
    {
     "data": {
      "image/png": "[encoded data removed]",
      "text/plain": [
       "<Figure size 640x480 with 1 Axes>"
      ]
     },
     "metadata": {},
     "output_type": "display_data"
    }
   ],
   "source": [
    "df.cnt_dup.hist()"
   ]
  },
  {
   "cell_type": "markdown",
   "metadata": {},
   "source": [
    "There are approx 14% duplicate records in the dataset and approx 0.1% records have occured three times."
   ]
  },
  {
   "cell_type": "code",
   "execution_count": 10,
   "metadata": {
    "id": "E4IZDe3R9jR7"
   },
   "outputs": [
    {
     "data": {
      "text/plain": [
       "1    2656284\n",
       "2    1272336\n",
       "3     277575\n",
       "4         90\n",
       "5         25\n",
       "6          5\n",
       "Name: cnt_dup, dtype: int64"
      ]
     },
     "execution_count": 10,
     "metadata": {},
     "output_type": "execute_result"
    }
   ],
   "source": [
    "df.cnt_dup.value_counts()"
   ]
  },
  {
   "cell_type": "code",
   "execution_count": 11,
   "metadata": {},
   "outputs": [],
   "source": [
    "del count"
   ]
  },
  {
   "cell_type": "code",
   "execution_count": 12,
   "metadata": {},
   "outputs": [
    {
     "data": {
      "text/plain": [
       "10625136"
      ]
     },
     "execution_count": 12,
     "metadata": {},
     "output_type": "execute_result"
    }
   ],
   "source": [
    "df = df[df.cnt_dup <2]\n",
    "df = df.reset_index(drop = True)\n",
    "df.size\n"
   ]
  },
  {
   "cell_type": "code",
   "execution_count": 13,
   "metadata": {},
   "outputs": [
    {
     "data": {
      "text/html": [
       "<div>\n",
       "<style scoped>\n",
       "    .dataframe tbody tr th:only-of-type {\n",
       "        vertical-align: middle;\n",
       "    }\n",
       "\n",
       "    .dataframe tbody tr th {\n",
       "        vertical-align: top;\n",
       "    }\n",
       "\n",
       "    .dataframe thead th {\n",
       "        text-align: right;\n",
       "    }\n",
       "</style>\n",
       "<table border=\"1\" class=\"dataframe\">\n",
       "  <thead>\n",
       "    <tr style=\"text-align: right;\">\n",
       "      <th></th>\n",
       "      <th>Title</th>\n",
       "      <th>Body</th>\n",
       "      <th>Tags</th>\n",
       "      <th>cnt_dup</th>\n",
       "    </tr>\n",
       "  </thead>\n",
       "  <tbody>\n",
       "    <tr>\n",
       "      <th>0</th>\n",
       "      <td>Implementing Boundary Value Analysis of S...</td>\n",
       "      <td>&lt;pre&gt;&lt;code&gt;#include&amp;lt;iostream&amp;gt;\\n#include&amp;...</td>\n",
       "      <td>c++ c</td>\n",
       "      <td>1</td>\n",
       "    </tr>\n",
       "    <tr>\n",
       "      <th>1</th>\n",
       "      <td>Dynamic Datagrid Binding in Silverlight?</td>\n",
       "      <td>&lt;p&gt;I should do binding for datagrid dynamicall...</td>\n",
       "      <td>c# silverlight data-binding</td>\n",
       "      <td>1</td>\n",
       "    </tr>\n",
       "    <tr>\n",
       "      <th>2</th>\n",
       "      <td>Dynamic Datagrid Binding in Silverlight?</td>\n",
       "      <td>&lt;p&gt;I should do binding for datagrid dynamicall...</td>\n",
       "      <td>c# silverlight data-binding columns</td>\n",
       "      <td>1</td>\n",
       "    </tr>\n",
       "    <tr>\n",
       "      <th>3</th>\n",
       "      <td>java.lang.NoClassDefFoundError: javax/serv...</td>\n",
       "      <td>&lt;p&gt;I followed the guide in &lt;a href=\"http://sta...</td>\n",
       "      <td>jsp jstl</td>\n",
       "      <td>1</td>\n",
       "    </tr>\n",
       "    <tr>\n",
       "      <th>4</th>\n",
       "      <td>Better way to update feed on FB with PHP SDK</td>\n",
       "      <td>&lt;p&gt;I am a novice with the Facebook API. I have...</td>\n",
       "      <td>facebook api facebook-php-sdk</td>\n",
       "      <td>1</td>\n",
       "    </tr>\n",
       "    <tr>\n",
       "      <th>5</th>\n",
       "      <td>\"SQL Injection\" issue preventing correct for...</td>\n",
       "      <td>&lt;p&gt;So I've been checking everything I can thin...</td>\n",
       "      <td>php forms</td>\n",
       "      <td>1</td>\n",
       "    </tr>\n",
       "    <tr>\n",
       "      <th>6</th>\n",
       "      <td>Undefined symbols for architecture i386: _OB...</td>\n",
       "      <td>&lt;p&gt;I have imported framework for sending email...</td>\n",
       "      <td>iphone email-integration</td>\n",
       "      <td>1</td>\n",
       "    </tr>\n",
       "    <tr>\n",
       "      <th>7</th>\n",
       "      <td>java.lang.NoSuchMethodError: javax.servlet.S...</td>\n",
       "      <td>&lt;p&gt;i want to have a servlet to process inputs ...</td>\n",
       "      <td>java servlets jboss</td>\n",
       "      <td>1</td>\n",
       "    </tr>\n",
       "    <tr>\n",
       "      <th>8</th>\n",
       "      <td>obtaining updated locations using gps in ser...</td>\n",
       "      <td>&lt;p&gt;I have app in which i have two buttons &lt;str...</td>\n",
       "      <td>android android-widget android-service</td>\n",
       "      <td>1</td>\n",
       "    </tr>\n",
       "    <tr>\n",
       "      <th>9</th>\n",
       "      <td>\"Specified initialization vector (IV) does no...</td>\n",
       "      <td>&lt;p&gt;I've had troubles using an CryptoStream for...</td>\n",
       "      <td>c# .net rijndaelmanaged cryptostream</td>\n",
       "      <td>1</td>\n",
       "    </tr>\n",
       "    <tr>\n",
       "      <th>10</th>\n",
       "      <td>\"subquery returns more than 1 row\" error.</td>\n",
       "      <td>&lt;p&gt;I am new to web programming and I'm trying ...</td>\n",
       "      <td>sql subquery</td>\n",
       "      <td>1</td>\n",
       "    </tr>\n",
       "    <tr>\n",
       "      <th>11</th>\n",
       "      <td>$5^{x}+2^{y}=2^{x}+5^{y} =\\frac{7}{10}$ Work ...</td>\n",
       "      <td>&lt;p&gt;$5^{x}+2^{y}=2^{x}+5^{y} =\\frac{7}{10}$\\nWo...</td>\n",
       "      <td>exponentiation</td>\n",
       "      <td>1</td>\n",
       "    </tr>\n",
       "    <tr>\n",
       "      <th>12</th>\n",
       "      <td>'selCurrentManuf' is not declared. It may be ...</td>\n",
       "      <td>&lt;p&gt;i have a drop down list i am trying to use ...</td>\n",
       "      <td>asp.net vb.net drop-down-menu</td>\n",
       "      <td>1</td>\n",
       "    </tr>\n",
       "    <tr>\n",
       "      <th>13</th>\n",
       "      <td>*** Exception: Prelude.read: no parse in Hask...</td>\n",
       "      <td>&lt;p&gt;This portion of code should read in two or ...</td>\n",
       "      <td>parsing haskell expression</td>\n",
       "      <td>1</td>\n",
       "    </tr>\n",
       "    <tr>\n",
       "      <th>14</th>\n",
       "      <td>.append causing IE error</td>\n",
       "      <td>&lt;p&gt;I have the following code, which works fine...</td>\n",
       "      <td>jquery append</td>\n",
       "      <td>1</td>\n",
       "    </tr>\n",
       "    <tr>\n",
       "      <th>15</th>\n",
       "      <td>A few things about division by zero in C</td>\n",
       "      <td>&lt;blockquote&gt;\\n  &lt;p&gt;&lt;strong&gt;Possible Duplicate:...</td>\n",
       "      <td>c++ c visual-c++</td>\n",
       "      <td>1</td>\n",
       "    </tr>\n",
       "    <tr>\n",
       "      <th>16</th>\n",
       "      <td>A simple distance inequality in probability</td>\n",
       "      <td>&lt;p&gt;I was going through Durrett's probability w...</td>\n",
       "      <td>probability-theory</td>\n",
       "      <td>1</td>\n",
       "    </tr>\n",
       "    <tr>\n",
       "      <th>17</th>\n",
       "      <td>ABI Type armeabi is unknown for target null i...</td>\n",
       "      <td>&lt;p&gt;When I update the &lt;code&gt;GoogeTV Av&lt;/code&gt;d ...</td>\n",
       "      <td>android avd google-tv</td>\n",
       "      <td>1</td>\n",
       "    </tr>\n",
       "    <tr>\n",
       "      <th>18</th>\n",
       "      <td>AIDL (Android Interface Definition Language)</td>\n",
       "      <td>&lt;p&gt;Looking for deep explanation about AIDL (an...</td>\n",
       "      <td>android aidl</td>\n",
       "      <td>1</td>\n",
       "    </tr>\n",
       "    <tr>\n",
       "      <th>19</th>\n",
       "      <td>ASP.NET MVC 3 Single-Page Application using J...</td>\n",
       "      <td>&lt;p&gt;I have recently built an single-page ASP.NE...</td>\n",
       "      <td>javascript jquery asp.net-mvc-3 dom</td>\n",
       "      <td>1</td>\n",
       "    </tr>\n",
       "  </tbody>\n",
       "</table>\n",
       "</div>"
      ],
      "text/plain": [
       "                                                Title  \\\n",
       "0        Implementing Boundary Value Analysis of S...   \n",
       "1            Dynamic Datagrid Binding in Silverlight?   \n",
       "2            Dynamic Datagrid Binding in Silverlight?   \n",
       "3       java.lang.NoClassDefFoundError: javax/serv...   \n",
       "4        Better way to update feed on FB with PHP SDK   \n",
       "5     \"SQL Injection\" issue preventing correct for...   \n",
       "6     Undefined symbols for architecture i386: _OB...   \n",
       "7     java.lang.NoSuchMethodError: javax.servlet.S...   \n",
       "8     obtaining updated locations using gps in ser...   \n",
       "9    \"Specified initialization vector (IV) does no...   \n",
       "10          \"subquery returns more than 1 row\" error.   \n",
       "11   $5^{x}+2^{y}=2^{x}+5^{y} =\\frac{7}{10}$ Work ...   \n",
       "12   'selCurrentManuf' is not declared. It may be ...   \n",
       "13   *** Exception: Prelude.read: no parse in Hask...   \n",
       "14                           .append causing IE error   \n",
       "15           A few things about division by zero in C   \n",
       "16        A simple distance inequality in probability   \n",
       "17   ABI Type armeabi is unknown for target null i...   \n",
       "18       AIDL (Android Interface Definition Language)   \n",
       "19   ASP.NET MVC 3 Single-Page Application using J...   \n",
       "\n",
       "                                                 Body  \\\n",
       "0   <pre><code>#include&lt;iostream&gt;\\n#include&...   \n",
       "1   <p>I should do binding for datagrid dynamicall...   \n",
       "2   <p>I should do binding for datagrid dynamicall...   \n",
       "3   <p>I followed the guide in <a href=\"http://sta...   \n",
       "4   <p>I am a novice with the Facebook API. I have...   \n",
       "5   <p>So I've been checking everything I can thin...   \n",
       "6   <p>I have imported framework for sending email...   \n",
       "7   <p>i want to have a servlet to process inputs ...   \n",
       "8   <p>I have app in which i have two buttons <str...   \n",
       "9   <p>I've had troubles using an CryptoStream for...   \n",
       "10  <p>I am new to web programming and I'm trying ...   \n",
       "11  <p>$5^{x}+2^{y}=2^{x}+5^{y} =\\frac{7}{10}$\\nWo...   \n",
       "12  <p>i have a drop down list i am trying to use ...   \n",
       "13  <p>This portion of code should read in two or ...   \n",
       "14  <p>I have the following code, which works fine...   \n",
       "15  <blockquote>\\n  <p><strong>Possible Duplicate:...   \n",
       "16  <p>I was going through Durrett's probability w...   \n",
       "17  <p>When I update the <code>GoogeTV Av</code>d ...   \n",
       "18  <p>Looking for deep explanation about AIDL (an...   \n",
       "19  <p>I have recently built an single-page ASP.NE...   \n",
       "\n",
       "                                      Tags  cnt_dup  \n",
       "0                                    c++ c        1  \n",
       "1              c# silverlight data-binding        1  \n",
       "2      c# silverlight data-binding columns        1  \n",
       "3                                 jsp jstl        1  \n",
       "4            facebook api facebook-php-sdk        1  \n",
       "5                                php forms        1  \n",
       "6                 iphone email-integration        1  \n",
       "7                      java servlets jboss        1  \n",
       "8   android android-widget android-service        1  \n",
       "9     c# .net rijndaelmanaged cryptostream        1  \n",
       "10                            sql subquery        1  \n",
       "11                          exponentiation        1  \n",
       "12           asp.net vb.net drop-down-menu        1  \n",
       "13              parsing haskell expression        1  \n",
       "14                           jquery append        1  \n",
       "15                        c++ c visual-c++        1  \n",
       "16                      probability-theory        1  \n",
       "17                   android avd google-tv        1  \n",
       "18                            android aidl        1  \n",
       "19     javascript jquery asp.net-mvc-3 dom        1  "
      ]
     },
     "execution_count": 13,
     "metadata": {},
     "output_type": "execute_result"
    }
   ],
   "source": [
    "df.head(20)"
   ]
  },
  {
   "cell_type": "markdown",
   "metadata": {},
   "source": [
    "Deleted the duplicate records and triplicate records"
   ]
  },
  {
   "cell_type": "markdown",
   "metadata": {},
   "source": [
    "All the possible tags are:"
   ]
  },
  {
   "cell_type": "code",
   "execution_count": 14,
   "metadata": {},
   "outputs": [
    {
     "name": "stdout",
     "output_type": "stream",
     "text": [
      "0                                        c++ c\n",
      "1                  c# silverlight data-binding\n",
      "2          c# silverlight data-binding columns\n",
      "3                                     jsp jstl\n",
      "4                facebook api facebook-php-sdk\n",
      "                          ...                 \n",
      "2656279                                sip sdp\n",
      "2656280                             c++ opengl\n",
      "2656281     php php-errors zend-studio php-5.2\n",
      "2656282                         php mysql text\n",
      "2656283     php codeigniter character-encoding\n",
      "Name: Tags, Length: 2656284, dtype: object\n"
     ]
    },
    {
     "data": {
      "text/plain": [
       "(2656284, 4)"
      ]
     },
     "execution_count": 14,
     "metadata": {},
     "output_type": "execute_result"
    }
   ],
   "source": [
    "print(df['Tags'])\n",
    "df.shape"
   ]
  },
  {
   "cell_type": "code",
   "execution_count": 15,
   "metadata": {},
   "outputs": [
    {
     "name": "stdout",
     "output_type": "stream",
     "text": [
      "0:00:00\n"
     ]
    }
   ],
   "source": [
    "from tqdm import tqdm\n",
    "import multiprocessing\n",
    "def seperate(a ,l, r):\n",
    "    tags = [\"c#\",\"java\", \"asp.net\", \"c++\", \"c\", \"ios\" , \"javascript\"]\n",
    "    for i in tqdm(range(l,r)):\n",
    "        for k in tags:\n",
    "            #print(i)\n",
    "            if(df.iloc[i].Tags is not None) and k in df.iloc[i].Tags.split():\n",
    "                a.append(i)\n",
    "                break\n",
    "    return a\n",
    "start = datetime.now()\n",
    "print(datetime.now() - start)"
   ]
  },
  {
   "cell_type": "code",
   "execution_count": 16,
   "metadata": {},
   "outputs": [
    {
     "name": "stderr",
     "output_type": "stream",
     "text": [
      "100%|████████████████████████████████████████████████████████████████████████| 885427/885427 [08:16<00:00, 1781.94it/s]\n",
      "100%|████████████████████████████████████████████████████████████████████████| 885427/885427 [08:48<00:00, 1676.62it/s]\n",
      "100%|████████████████████████████████████████████████████████████████████████| 885430/885430 [08:22<00:00, 1763.70it/s]\n"
     ]
    }
   ],
   "source": [
    "from multiprocessing import Pool\n",
    "manager = multiprocessing.Manager()\n",
    "\n",
    "shared_list = manager.list()\n",
    "shared_list = seperate(shared_list, 0, 885427)\n",
    "shared_list = seperate(shared_list, 885427, 1770854)\n",
    "shared_list = seperate(shared_list, 1770854, df.shape[0])\n",
    "#print(shared_list)\n",
    "#p1 = multiprocessing.Process(target = seperate, args = [shared_list, 0, 885427])\n",
    "#p2 = multiprocessing.Process(target = seperate, args = [shared_list, 885427, 1770854])\n",
    "#p3 = multiprocessing.Process(target = seperate, args = [shared_list, 1770854, df.shape[0]])\n",
    "\n",
    "#p1.start()\n",
    "#p2.start()\n",
    "#p3.start()\n"
   ]
  },
  {
   "cell_type": "code",
   "execution_count": 17,
   "metadata": {},
   "outputs": [
    {
     "data": {
      "text/plain": [
       "832012"
      ]
     },
     "execution_count": 17,
     "metadata": {},
     "output_type": "execute_result"
    }
   ],
   "source": [
    "b = []\n",
    "b.extend(shared_list)\n",
    "len(b)\n",
    "#print(b)"
   ]
  },
  {
   "cell_type": "code",
   "execution_count": 18,
   "metadata": {},
   "outputs": [
    {
     "data": {
      "text/html": [
       "<div>\n",
       "<style scoped>\n",
       "    .dataframe tbody tr th:only-of-type {\n",
       "        vertical-align: middle;\n",
       "    }\n",
       "\n",
       "    .dataframe tbody tr th {\n",
       "        vertical-align: top;\n",
       "    }\n",
       "\n",
       "    .dataframe thead th {\n",
       "        text-align: right;\n",
       "    }\n",
       "</style>\n",
       "<table border=\"1\" class=\"dataframe\">\n",
       "  <thead>\n",
       "    <tr style=\"text-align: right;\">\n",
       "      <th></th>\n",
       "      <th>Title</th>\n",
       "      <th>Body</th>\n",
       "      <th>Tags</th>\n",
       "      <th>cnt_dup</th>\n",
       "    </tr>\n",
       "  </thead>\n",
       "  <tbody>\n",
       "    <tr>\n",
       "      <th>0</th>\n",
       "      <td>Implementing Boundary Value Analysis of S...</td>\n",
       "      <td>&lt;pre&gt;&lt;code&gt;#include&amp;lt;iostream&amp;gt;\\n#include&amp;...</td>\n",
       "      <td>c++ c</td>\n",
       "      <td>1</td>\n",
       "    </tr>\n",
       "    <tr>\n",
       "      <th>1</th>\n",
       "      <td>Dynamic Datagrid Binding in Silverlight?</td>\n",
       "      <td>&lt;p&gt;I should do binding for datagrid dynamicall...</td>\n",
       "      <td>c# silverlight data-binding</td>\n",
       "      <td>1</td>\n",
       "    </tr>\n",
       "    <tr>\n",
       "      <th>2</th>\n",
       "      <td>Dynamic Datagrid Binding in Silverlight?</td>\n",
       "      <td>&lt;p&gt;I should do binding for datagrid dynamicall...</td>\n",
       "      <td>c# silverlight data-binding columns</td>\n",
       "      <td>1</td>\n",
       "    </tr>\n",
       "    <tr>\n",
       "      <th>3</th>\n",
       "      <td>java.lang.NoSuchMethodError: javax.servlet.S...</td>\n",
       "      <td>&lt;p&gt;i want to have a servlet to process inputs ...</td>\n",
       "      <td>java servlets jboss</td>\n",
       "      <td>1</td>\n",
       "    </tr>\n",
       "    <tr>\n",
       "      <th>4</th>\n",
       "      <td>\"Specified initialization vector (IV) does no...</td>\n",
       "      <td>&lt;p&gt;I've had troubles using an CryptoStream for...</td>\n",
       "      <td>c# .net rijndaelmanaged cryptostream</td>\n",
       "      <td>1</td>\n",
       "    </tr>\n",
       "  </tbody>\n",
       "</table>\n",
       "</div>"
      ],
      "text/plain": [
       "                                               Title  \\\n",
       "0       Implementing Boundary Value Analysis of S...   \n",
       "1           Dynamic Datagrid Binding in Silverlight?   \n",
       "2           Dynamic Datagrid Binding in Silverlight?   \n",
       "3    java.lang.NoSuchMethodError: javax.servlet.S...   \n",
       "4   \"Specified initialization vector (IV) does no...   \n",
       "\n",
       "                                                Body  \\\n",
       "0  <pre><code>#include&lt;iostream&gt;\\n#include&...   \n",
       "1  <p>I should do binding for datagrid dynamicall...   \n",
       "2  <p>I should do binding for datagrid dynamicall...   \n",
       "3  <p>i want to have a servlet to process inputs ...   \n",
       "4  <p>I've had troubles using an CryptoStream for...   \n",
       "\n",
       "                                   Tags  cnt_dup  \n",
       "0                                 c++ c        1  \n",
       "1           c# silverlight data-binding        1  \n",
       "2   c# silverlight data-binding columns        1  \n",
       "3                   java servlets jboss        1  \n",
       "4  c# .net rijndaelmanaged cryptostream        1  "
      ]
     },
     "execution_count": 18,
     "metadata": {},
     "output_type": "execute_result"
    }
   ],
   "source": [
    "df = df.iloc[b]\n",
    "df = df.reset_index(drop = True)\n",
    "df.head()"
   ]
  },
  {
   "cell_type": "code",
   "execution_count": 19,
   "metadata": {},
   "outputs": [],
   "source": [
    "if not os.path.isfile('without_duplicates.db'):\n",
    "    disk_dup = create_engine(\"sqlite:///without_duplicates.db\")\n",
    "    no_dup = pd.DataFrame(df, columns = ['Title', 'Body', 'Tags'])\n",
    "    no_dup.to_sql('no_dup_train',disk_dup)"
   ]
  },
  {
   "cell_type": "code",
   "execution_count": 20,
   "metadata": {},
   "outputs": [
    {
     "name": "stdout",
     "output_type": "stream",
     "text": [
      "Total rows in training set =  0    832012\n",
      "Name: count(*), dtype: int64\n",
      "         index                                              Title  \\\n",
      "0            0       Implementing Boundary Value Analysis of S...   \n",
      "1            1           Dynamic Datagrid Binding in Silverlight?   \n",
      "2            2           Dynamic Datagrid Binding in Silverlight?   \n",
      "3            3    java.lang.NoSuchMethodError: javax.servlet.S...   \n",
      "4            4   \"Specified initialization vector (IV) does no...   \n",
      "...        ...                                                ...   \n",
      "832007  832007  “var” variables, \"this\" variables and \"global\"...   \n",
      "832008  832008  „menuinterface.Menu.exit' is never assigned to...   \n",
      "832009  832009         ™ gets converted to â„ ¢ DOMDocument XPath   \n",
      "832010  832010  ∞ gets converted to âˆž when inserted into MyS...   \n",
      "832011  832011                                  关于Nehe教程，SDK配置的疑问   \n",
      "\n",
      "                                                     Body  \\\n",
      "0       <pre><code>#include&lt;iostream&gt;\\n#include&...   \n",
      "1       <p>I should do binding for datagrid dynamicall...   \n",
      "2       <p>I should do binding for datagrid dynamicall...   \n",
      "3       <p>i want to have a servlet to process inputs ...   \n",
      "4       <p>I've had troubles using an CryptoStream for...   \n",
      "...                                                   ...   \n",
      "832007  <p>After my last question, this one is more ac...   \n",
      "832008  <p>How I can use Exit() in another class? I wa...   \n",
      "832009  <p>If I have</p>\\n\\n<pre><code>&lt;p id='test'...   \n",
      "832010  <p>The infinity (<code>∞</code>) symbol gets c...   \n",
      "832011  <p>很感谢您在网上分享的关于Nehe的中文教程。\\n         在配置SDK时候，我...   \n",
      "\n",
      "                                                 Tags  \n",
      "0                                               c++ c  \n",
      "1                         c# silverlight data-binding  \n",
      "2                 c# silverlight data-binding columns  \n",
      "3                                 java servlets jboss  \n",
      "4                c# .net rijndaelmanaged cryptostream  \n",
      "...                                               ...  \n",
      "832007                javascript constructor this var  \n",
      "832008                                         c# xna  \n",
      "832009               php javascript xpath domdocument  \n",
      "832010  php javascript mysql utf-8 encodeuricomponent  \n",
      "832011                                     c++ opengl  \n",
      "\n",
      "[832012 rows x 4 columns]\n"
     ]
    }
   ],
   "source": [
    "con = sqlite3.connect('without_duplicates.db')\n",
    "k = pd.read_sql_query(\"\"\"SELECT * FROM no_dup_train\"\"\",con)\n",
    "count = pd.read_sql_query(\"\"\"SELECT count(*) FROM no_dup_train\"\"\", con)\n",
    "print(\"Total rows in training set = \", count[\"count(*)\"])\n",
    "con.close()\n",
    "print(k)"
   ]
  },
  {
   "cell_type": "code",
   "execution_count": 21,
   "metadata": {},
   "outputs": [],
   "source": [
    "k = k.drop([\"index\"], axis = 1)"
   ]
  },
  {
   "cell_type": "code",
   "execution_count": 22,
   "metadata": {},
   "outputs": [
    {
     "data": {
      "text/html": [
       "<div>\n",
       "<style scoped>\n",
       "    .dataframe tbody tr th:only-of-type {\n",
       "        vertical-align: middle;\n",
       "    }\n",
       "\n",
       "    .dataframe tbody tr th {\n",
       "        vertical-align: top;\n",
       "    }\n",
       "\n",
       "    .dataframe thead th {\n",
       "        text-align: right;\n",
       "    }\n",
       "</style>\n",
       "<table border=\"1\" class=\"dataframe\">\n",
       "  <thead>\n",
       "    <tr style=\"text-align: right;\">\n",
       "      <th></th>\n",
       "      <th>Title</th>\n",
       "      <th>Body</th>\n",
       "      <th>Tags</th>\n",
       "    </tr>\n",
       "  </thead>\n",
       "  <tbody>\n",
       "    <tr>\n",
       "      <th>0</th>\n",
       "      <td>Implementing Boundary Value Analysis of S...</td>\n",
       "      <td>&lt;pre&gt;&lt;code&gt;#include&amp;lt;iostream&amp;gt;\\n#include&amp;...</td>\n",
       "      <td>c++ c</td>\n",
       "    </tr>\n",
       "    <tr>\n",
       "      <th>1</th>\n",
       "      <td>Dynamic Datagrid Binding in Silverlight?</td>\n",
       "      <td>&lt;p&gt;I should do binding for datagrid dynamicall...</td>\n",
       "      <td>c# silverlight data-binding</td>\n",
       "    </tr>\n",
       "    <tr>\n",
       "      <th>2</th>\n",
       "      <td>Dynamic Datagrid Binding in Silverlight?</td>\n",
       "      <td>&lt;p&gt;I should do binding for datagrid dynamicall...</td>\n",
       "      <td>c# silverlight data-binding columns</td>\n",
       "    </tr>\n",
       "    <tr>\n",
       "      <th>3</th>\n",
       "      <td>java.lang.NoSuchMethodError: javax.servlet.S...</td>\n",
       "      <td>&lt;p&gt;i want to have a servlet to process inputs ...</td>\n",
       "      <td>java servlets jboss</td>\n",
       "    </tr>\n",
       "    <tr>\n",
       "      <th>4</th>\n",
       "      <td>\"Specified initialization vector (IV) does no...</td>\n",
       "      <td>&lt;p&gt;I've had troubles using an CryptoStream for...</td>\n",
       "      <td>c# .net rijndaelmanaged cryptostream</td>\n",
       "    </tr>\n",
       "  </tbody>\n",
       "</table>\n",
       "</div>"
      ],
      "text/plain": [
       "                                               Title  \\\n",
       "0       Implementing Boundary Value Analysis of S...   \n",
       "1           Dynamic Datagrid Binding in Silverlight?   \n",
       "2           Dynamic Datagrid Binding in Silverlight?   \n",
       "3    java.lang.NoSuchMethodError: javax.servlet.S...   \n",
       "4   \"Specified initialization vector (IV) does no...   \n",
       "\n",
       "                                                Body  \\\n",
       "0  <pre><code>#include&lt;iostream&gt;\\n#include&...   \n",
       "1  <p>I should do binding for datagrid dynamicall...   \n",
       "2  <p>I should do binding for datagrid dynamicall...   \n",
       "3  <p>i want to have a servlet to process inputs ...   \n",
       "4  <p>I've had troubles using an CryptoStream for...   \n",
       "\n",
       "                                   Tags  \n",
       "0                                 c++ c  \n",
       "1           c# silverlight data-binding  \n",
       "2   c# silverlight data-binding columns  \n",
       "3                   java servlets jboss  \n",
       "4  c# .net rijndaelmanaged cryptostream  "
      ]
     },
     "execution_count": 22,
     "metadata": {},
     "output_type": "execute_result"
    }
   ],
   "source": [
    "k.head()"
   ]
  },
  {
   "cell_type": "code",
   "execution_count": 23,
   "metadata": {},
   "outputs": [
    {
     "name": "stdout",
     "output_type": "stream",
     "text": [
      "<p>i want to have a servlet to process inputs from a standalone java program. how to deploy this servlet in jboss. I put the servlet.class file in WEB-INF/classes and in web.xml i gave the servlet url mapping as \".do\". From my Java client program i opened connected to the servlet using a URL object. using localhost:8080/.do. BUT i am getting the folowing error:</p>\n",
      "\n",
      "<pre>\n",
      "  ERROR [org.apache.catalina.connector.CoyoteAdapter] An exception or error occurred in the container during the request processing: \n",
      "  java.lang.NoSuchMethodError: javax.servlet.ServletContext.getEffectiveSessionTrackingModes()Ljava/util/Set;\n",
      "            at\n",
      "     org.apache.catalina.connector.CoyoteAdapter.postParseRequest(CoyoteAdapter.java:567)\n",
      "            at org.apache.catalina.connector.CoyoteAdapter.service(CoyoteAdapter.java:359)\n",
      "            at org.apache.coyote.http11.Http11Processor.process(Http11Processor.java:877)\n",
      "            at org.apache.coyote.http11.Http11Protocol$Http11ConnectionHandler.process(Http11Protocol.java:654)\n",
      "            at org.apache.tomcat.util.net.JIoEndpoint$Worker.run(JIoEndpoint.java:951)\n",
      "</pre>\n",
      "\n",
      "<p>web.xml file contents :</p>\n",
      "\n",
      "<pre><code>&lt;?xml version=\"1.0\" encoding=\"UTF-8\"?&gt; \n",
      "&lt;!DOCTYPE web-app PUBLIC \"-//Sun Microsystems, Inc.//DTD Web Application 2.2//EN\" \"java.sun.com/j2ee/dtds/web-app_2_2.dtd\"&gt;; \n",
      "&lt;web-app&gt; \n",
      "     &lt;servlet&gt;\n",
      "         &lt;servlet-name&gt;ReverseServlet&lt;/servlet-name&gt; \n",
      "         &lt;servlet-class&gt;ReverseServlet&lt;/servlet-class&gt; \n",
      "     &lt;/servlet&gt; \n",
      "     &lt;servlet-mapping&gt;\n",
      "          &lt;servlet-name&gt;ReverseServlet&lt;/servlet-name&gt; \n",
      "          &lt;url-pattern&gt;/*.do&lt;/url-pattern&gt; \n",
      "     &lt;/servlet-mapping&gt; \n",
      "&lt;/web-app&gt;\n",
      "</code></pre>\n",
      "\n"
     ]
    }
   ],
   "source": [
    "f = k.Body.iloc[3]\n",
    "print(f)"
   ]
  },
  {
   "cell_type": "markdown",
   "metadata": {},
   "source": [
    "PREPROCESSING"
   ]
  },
  {
   "cell_type": "markdown",
   "metadata": {
    "id": "23kD_KiX_gYR"
   },
   "source": [
    "#Cleaning Title of questions as follows:\n",
    "1. #Removing Redundant spaces\n",
    "1. #Removing Stopwords\n",
    "1. #Removing curly brackets"
   ]
  },
  {
   "cell_type": "code",
   "execution_count": 24,
   "metadata": {
    "id": "3m_ZN-_K_-aW"
   },
   "outputs": [
    {
     "name": "stderr",
     "output_type": "stream",
     "text": [
      "[nltk_data] Downloading package stopwords to\n",
      "[nltk_data]     C:\\Users\\MOHIT\\AppData\\Roaming\\nltk_data...\n",
      "[nltk_data]   Package stopwords is already up-to-date!\n"
     ]
    },
    {
     "data": {
      "text/plain": [
       "True"
      ]
     },
     "execution_count": 24,
     "metadata": {},
     "output_type": "execute_result"
    }
   ],
   "source": [
    "import nltk\n",
    "nltk.download('stopwords')"
   ]
  },
  {
   "cell_type": "code",
   "execution_count": 25,
   "metadata": {
    "id": "ofSfK5eo_rfE"
   },
   "outputs": [
    {
     "name": "stderr",
     "output_type": "stream",
     "text": [
      "  0%|                                                                                       | 0/832012 [00:00<?, ?it/s]C:\\Users\\MOHIT\\anaconda3\\lib\\site-packages\\bs4\\__init__.py:435: MarkupResemblesLocatorWarning: The input looks more like a filename than markup. You may want to open this file and pass the filehandle into Beautiful Soup.\n",
      "  warnings.warn(\n",
      "100%|█████████████████████████████████████████████████████████████████████████| 832012/832012 [15:46<00:00, 879.22it/s]\n"
     ]
    }
   ],
   "source": [
    "from tqdm import tqdm\n",
    "from bs4 import BeautifulSoup\n",
    "preprocessed_reviews = []\n",
    "for sentence in tqdm(k.Title.values):\n",
    "  sentence = re.sub(r\"http\\S+\", \"\", sentence)\n",
    "  sentence = BeautifulSoup(sentence, 'lxml').get_text()\n",
    "  sentence = re.sub(\"\\S*\\d\\S*\", \"\", sentence).strip()\n",
    "  sentence = re.sub('[^A-Za-z]+', ' ',sentence)\n",
    "  sentence = ' '.join(e.lower() for e in sentence.split() if e.lower()not in stopwords.words('english'))\n",
    "  preprocessed_reviews.append(sentence.strip())"
   ]
  },
  {
   "cell_type": "markdown",
   "metadata": {},
   "source": [
    "Cleaned tags are set as default titles in the dataframe."
   ]
  },
  {
   "cell_type": "code",
   "execution_count": 26,
   "metadata": {
    "id": "Fnc6shzFA5QB"
   },
   "outputs": [],
   "source": [
    "k.Title = preprocessed_reviews"
   ]
  },
  {
   "cell_type": "code",
   "execution_count": 27,
   "metadata": {
    "id": "-Ui6uDAICMKb"
   },
   "outputs": [
    {
     "name": "stderr",
     "output_type": "stream",
     "text": [
      "100%|██████████████████████████████████████████████████████████████████████| 832012/832012 [00:04<00:00, 177724.90it/s]\n"
     ]
    }
   ],
   "source": [
    "new_tags = []\n",
    "for i in tqdm(range(k.shape[0])):\n",
    "  j = k.Tags.iloc[i].split()[0]\n",
    "  new_tags.append(j)"
   ]
  },
  {
   "cell_type": "code",
   "execution_count": 28,
   "metadata": {
    "id": "1oO5KuTlCWcE"
   },
   "outputs": [
    {
     "data": {
      "text/html": [
       "<div>\n",
       "<style scoped>\n",
       "    .dataframe tbody tr th:only-of-type {\n",
       "        vertical-align: middle;\n",
       "    }\n",
       "\n",
       "    .dataframe tbody tr th {\n",
       "        vertical-align: top;\n",
       "    }\n",
       "\n",
       "    .dataframe thead th {\n",
       "        text-align: right;\n",
       "    }\n",
       "</style>\n",
       "<table border=\"1\" class=\"dataframe\">\n",
       "  <thead>\n",
       "    <tr style=\"text-align: right;\">\n",
       "      <th></th>\n",
       "      <th>Title</th>\n",
       "      <th>Body</th>\n",
       "      <th>Tags</th>\n",
       "    </tr>\n",
       "  </thead>\n",
       "  <tbody>\n",
       "    <tr>\n",
       "      <th>0</th>\n",
       "      <td>implementing boundary value analysis software ...</td>\n",
       "      <td>&lt;pre&gt;&lt;code&gt;#include&amp;lt;iostream&amp;gt;\\n#include&amp;...</td>\n",
       "      <td>c++</td>\n",
       "    </tr>\n",
       "    <tr>\n",
       "      <th>1</th>\n",
       "      <td>dynamic datagrid binding silverlight</td>\n",
       "      <td>&lt;p&gt;I should do binding for datagrid dynamicall...</td>\n",
       "      <td>c#</td>\n",
       "    </tr>\n",
       "    <tr>\n",
       "      <th>2</th>\n",
       "      <td>dynamic datagrid binding silverlight</td>\n",
       "      <td>&lt;p&gt;I should do binding for datagrid dynamicall...</td>\n",
       "      <td>c#</td>\n",
       "    </tr>\n",
       "    <tr>\n",
       "      <th>3</th>\n",
       "      <td>java lang nosuchmethoderror javax servlet serv...</td>\n",
       "      <td>&lt;p&gt;i want to have a servlet to process inputs ...</td>\n",
       "      <td>java</td>\n",
       "    </tr>\n",
       "    <tr>\n",
       "      <th>4</th>\n",
       "      <td>specified initialization vector iv match block...</td>\n",
       "      <td>&lt;p&gt;I've had troubles using an CryptoStream for...</td>\n",
       "      <td>c#</td>\n",
       "    </tr>\n",
       "    <tr>\n",
       "      <th>5</th>\n",
       "      <td>selcurrentmanuf declared may inaccessible due ...</td>\n",
       "      <td>&lt;p&gt;i have a drop down list i am trying to use ...</td>\n",
       "      <td>asp.net</td>\n",
       "    </tr>\n",
       "    <tr>\n",
       "      <th>6</th>\n",
       "      <td>things division zero c</td>\n",
       "      <td>&lt;blockquote&gt;\\n  &lt;p&gt;&lt;strong&gt;Possible Duplicate:...</td>\n",
       "      <td>c++</td>\n",
       "    </tr>\n",
       "    <tr>\n",
       "      <th>7</th>\n",
       "      <td>asp net mvc single page application using java...</td>\n",
       "      <td>&lt;p&gt;I have recently built an single-page ASP.NE...</td>\n",
       "      <td>javascript</td>\n",
       "    </tr>\n",
       "    <tr>\n",
       "      <th>8</th>\n",
       "      <td>adapter pattern</td>\n",
       "      <td>&lt;p&gt;I have a problem in which I have to copy da...</td>\n",
       "      <td>c#</td>\n",
       "    </tr>\n",
       "    <tr>\n",
       "      <th>9</th>\n",
       "      <td>add custom html attributes generated controls</td>\n",
       "      <td>&lt;p&gt;I just want to add a placeholder for my gen...</td>\n",
       "      <td>asp.net</td>\n",
       "    </tr>\n",
       "    <tr>\n",
       "      <th>10</th>\n",
       "      <td>ajax error ready state failed</td>\n",
       "      <td>&lt;p&gt;Thre ready state and status are not 4 and 2...</td>\n",
       "      <td>php</td>\n",
       "    </tr>\n",
       "    <tr>\n",
       "      <th>11</th>\n",
       "      <td>ajax functions like load strip comments html k...</td>\n",
       "      <td>&lt;p&gt;For example, &lt;code&gt;$('#some-div').load('htt...</td>\n",
       "      <td>javascript</td>\n",
       "    </tr>\n",
       "    <tr>\n",
       "      <th>12</th>\n",
       "      <td>alternate ways store data</td>\n",
       "      <td>&lt;p&gt;Hey guys I'm searching for an alternative w...</td>\n",
       "      <td>c#</td>\n",
       "    </tr>\n",
       "    <tr>\n",
       "      <th>13</th>\n",
       "      <td>android make spinner show item selecting items...</td>\n",
       "      <td>&lt;p&gt;This is my code:&lt;/p&gt;\\n\\n&lt;pre&gt;&lt;code&gt;    pack...</td>\n",
       "      <td>java</td>\n",
       "    </tr>\n",
       "    <tr>\n",
       "      <th>14</th>\n",
       "      <td>way using java nio interrupt inputstream read ...</td>\n",
       "      <td>&lt;p&gt;Do you know of a way to interrupt a read fr...</td>\n",
       "      <td>java</td>\n",
       "    </tr>\n",
       "    <tr>\n",
       "      <th>15</th>\n",
       "      <td>backgroundworker onprogresschanged still fired...</td>\n",
       "      <td>&lt;p&gt;My application used &lt;code&gt;BackgroundWorker&lt;...</td>\n",
       "      <td>c#</td>\n",
       "    </tr>\n",
       "    <tr>\n",
       "      <th>16</th>\n",
       "      <td>boolean inside select</td>\n",
       "      <td>&lt;p&gt;I have a person table filled with Person in...</td>\n",
       "      <td>c#</td>\n",
       "    </tr>\n",
       "    <tr>\n",
       "      <th>17</th>\n",
       "      <td>c overloading operator</td>\n",
       "      <td>&lt;pre&gt;&lt;code&gt;//overloading operator ==\\nclass Po...</td>\n",
       "      <td>c#</td>\n",
       "    </tr>\n",
       "    <tr>\n",
       "      <th>18</th>\n",
       "      <td>c linker error</td>\n",
       "      <td>&lt;p&gt;I encounter a problem about LNK2019 when I ...</td>\n",
       "      <td>c++</td>\n",
       "    </tr>\n",
       "    <tr>\n",
       "      <th>19</th>\n",
       "      <td>css loaded multiple html pages jquery mobile p...</td>\n",
       "      <td>&lt;p&gt;I have implemented a &lt;strong&gt;Phone Gap appl...</td>\n",
       "      <td>javascript</td>\n",
       "    </tr>\n",
       "  </tbody>\n",
       "</table>\n",
       "</div>"
      ],
      "text/plain": [
       "                                                Title  \\\n",
       "0   implementing boundary value analysis software ...   \n",
       "1                dynamic datagrid binding silverlight   \n",
       "2                dynamic datagrid binding silverlight   \n",
       "3   java lang nosuchmethoderror javax servlet serv...   \n",
       "4   specified initialization vector iv match block...   \n",
       "5   selcurrentmanuf declared may inaccessible due ...   \n",
       "6                              things division zero c   \n",
       "7   asp net mvc single page application using java...   \n",
       "8                                     adapter pattern   \n",
       "9       add custom html attributes generated controls   \n",
       "10                      ajax error ready state failed   \n",
       "11  ajax functions like load strip comments html k...   \n",
       "12                          alternate ways store data   \n",
       "13  android make spinner show item selecting items...   \n",
       "14  way using java nio interrupt inputstream read ...   \n",
       "15  backgroundworker onprogresschanged still fired...   \n",
       "16                              boolean inside select   \n",
       "17                             c overloading operator   \n",
       "18                                     c linker error   \n",
       "19  css loaded multiple html pages jquery mobile p...   \n",
       "\n",
       "                                                 Body        Tags  \n",
       "0   <pre><code>#include&lt;iostream&gt;\\n#include&...         c++  \n",
       "1   <p>I should do binding for datagrid dynamicall...          c#  \n",
       "2   <p>I should do binding for datagrid dynamicall...          c#  \n",
       "3   <p>i want to have a servlet to process inputs ...        java  \n",
       "4   <p>I've had troubles using an CryptoStream for...          c#  \n",
       "5   <p>i have a drop down list i am trying to use ...     asp.net  \n",
       "6   <blockquote>\\n  <p><strong>Possible Duplicate:...         c++  \n",
       "7   <p>I have recently built an single-page ASP.NE...  javascript  \n",
       "8   <p>I have a problem in which I have to copy da...          c#  \n",
       "9   <p>I just want to add a placeholder for my gen...     asp.net  \n",
       "10  <p>Thre ready state and status are not 4 and 2...         php  \n",
       "11  <p>For example, <code>$('#some-div').load('htt...  javascript  \n",
       "12  <p>Hey guys I'm searching for an alternative w...          c#  \n",
       "13  <p>This is my code:</p>\\n\\n<pre><code>    pack...        java  \n",
       "14  <p>Do you know of a way to interrupt a read fr...        java  \n",
       "15  <p>My application used <code>BackgroundWorker<...          c#  \n",
       "16  <p>I have a person table filled with Person in...          c#  \n",
       "17  <pre><code>//overloading operator ==\\nclass Po...          c#  \n",
       "18  <p>I encounter a problem about LNK2019 when I ...         c++  \n",
       "19  <p>I have implemented a <strong>Phone Gap appl...  javascript  "
      ]
     },
     "execution_count": 28,
     "metadata": {},
     "output_type": "execute_result"
    }
   ],
   "source": [
    "k.Tags = new_tags\n",
    "k.head(20)"
   ]
  },
  {
   "cell_type": "code",
   "execution_count": 29,
   "metadata": {
    "id": "JmWYhlRdCamu"
   },
   "outputs": [
    {
     "data": {
      "text/html": [
       "<div>\n",
       "<style scoped>\n",
       "    .dataframe tbody tr th:only-of-type {\n",
       "        vertical-align: middle;\n",
       "    }\n",
       "\n",
       "    .dataframe tbody tr th {\n",
       "        vertical-align: top;\n",
       "    }\n",
       "\n",
       "    .dataframe thead th {\n",
       "        text-align: right;\n",
       "    }\n",
       "</style>\n",
       "<table border=\"1\" class=\"dataframe\">\n",
       "  <thead>\n",
       "    <tr style=\"text-align: right;\">\n",
       "      <th></th>\n",
       "      <th>Title</th>\n",
       "      <th>Body</th>\n",
       "      <th>Tags</th>\n",
       "    </tr>\n",
       "  </thead>\n",
       "  <tbody>\n",
       "    <tr>\n",
       "      <th>count</th>\n",
       "      <td>832012</td>\n",
       "      <td>832012</td>\n",
       "      <td>832012</td>\n",
       "    </tr>\n",
       "    <tr>\n",
       "      <th>unique</th>\n",
       "      <td>813051</td>\n",
       "      <td>824308</td>\n",
       "      <td>433</td>\n",
       "    </tr>\n",
       "    <tr>\n",
       "      <th>top</th>\n",
       "      <td></td>\n",
       "      <td>&lt;p&gt;I've now googled around and tried various m...</td>\n",
       "      <td>c#</td>\n",
       "    </tr>\n",
       "    <tr>\n",
       "      <th>freq</th>\n",
       "      <td>151</td>\n",
       "      <td>3</td>\n",
       "      <td>216114</td>\n",
       "    </tr>\n",
       "  </tbody>\n",
       "</table>\n",
       "</div>"
      ],
      "text/plain": [
       "         Title                                               Body    Tags\n",
       "count   832012                                             832012  832012\n",
       "unique  813051                                             824308     433\n",
       "top             <p>I've now googled around and tried various m...      c#\n",
       "freq       151                                                  3  216114"
      ]
     },
     "execution_count": 29,
     "metadata": {},
     "output_type": "execute_result"
    }
   ],
   "source": [
    "k.describe()"
   ]
  },
  {
   "cell_type": "code",
   "execution_count": 30,
   "metadata": {
    "id": "_k9P0dNcCdzU"
   },
   "outputs": [
    {
     "data": {
      "text/plain": [
       "count     832012\n",
       "unique       433\n",
       "top           c#\n",
       "freq      216114\n",
       "Name: Tags, dtype: object"
      ]
     },
     "execution_count": 30,
     "metadata": {},
     "output_type": "execute_result"
    }
   ],
   "source": [
    "k.Tags.describe()"
   ]
  },
  {
   "cell_type": "code",
   "execution_count": 31,
   "metadata": {
    "id": "_FbxehNGCgc9"
   },
   "outputs": [
    {
     "data": {
      "text/html": [
       "<div>\n",
       "<style scoped>\n",
       "    .dataframe tbody tr th:only-of-type {\n",
       "        vertical-align: middle;\n",
       "    }\n",
       "\n",
       "    .dataframe tbody tr th {\n",
       "        vertical-align: top;\n",
       "    }\n",
       "\n",
       "    .dataframe thead tr th {\n",
       "        text-align: left;\n",
       "    }\n",
       "\n",
       "    .dataframe thead tr:last-of-type th {\n",
       "        text-align: right;\n",
       "    }\n",
       "</style>\n",
       "<table border=\"1\" class=\"dataframe\">\n",
       "  <thead>\n",
       "    <tr>\n",
       "      <th></th>\n",
       "      <th colspan=\"4\" halign=\"left\">Title</th>\n",
       "      <th colspan=\"4\" halign=\"left\">Body</th>\n",
       "    </tr>\n",
       "    <tr>\n",
       "      <th></th>\n",
       "      <th>count</th>\n",
       "      <th>unique</th>\n",
       "      <th>top</th>\n",
       "      <th>freq</th>\n",
       "      <th>count</th>\n",
       "      <th>unique</th>\n",
       "      <th>top</th>\n",
       "      <th>freq</th>\n",
       "    </tr>\n",
       "    <tr>\n",
       "      <th>Tags</th>\n",
       "      <th></th>\n",
       "      <th></th>\n",
       "      <th></th>\n",
       "      <th></th>\n",
       "      <th></th>\n",
       "      <th></th>\n",
       "      <th></th>\n",
       "      <th></th>\n",
       "    </tr>\n",
       "  </thead>\n",
       "  <tbody>\n",
       "    <tr>\n",
       "      <th>.htaccess</th>\n",
       "      <td>1</td>\n",
       "      <td>1</td>\n",
       "      <td>pre gzip static js</td>\n",
       "      <td>1</td>\n",
       "      <td>1</td>\n",
       "      <td>1</td>\n",
       "      <td>&lt;p&gt;my site is running IPB 3.1.4 and I want to ...</td>\n",
       "      <td>1</td>\n",
       "    </tr>\n",
       "    <tr>\n",
       "      <th>.net</th>\n",
       "      <td>2115</td>\n",
       "      <td>2096</td>\n",
       "      <td>expose net object remote c client</td>\n",
       "      <td>2</td>\n",
       "      <td>2115</td>\n",
       "      <td>2113</td>\n",
       "      <td>&lt;p&gt;We have a .net library developed in C#.\\nIt...</td>\n",
       "      <td>2</td>\n",
       "    </tr>\n",
       "    <tr>\n",
       "      <th>.net-framework</th>\n",
       "      <td>3</td>\n",
       "      <td>3</td>\n",
       "      <td>asp net dotnetnuke using pre made websites</td>\n",
       "      <td>1</td>\n",
       "      <td>3</td>\n",
       "      <td>3</td>\n",
       "      <td>&lt;p&gt;I would really appreciate any useful inform...</td>\n",
       "      <td>1</td>\n",
       "    </tr>\n",
       "    <tr>\n",
       "      <th>2007</th>\n",
       "      <td>11</td>\n",
       "      <td>11</td>\n",
       "      <td>default reader site group people picker retrie...</td>\n",
       "      <td>1</td>\n",
       "      <td>11</td>\n",
       "      <td>11</td>\n",
       "      <td>&lt;p&gt;I have an issue with people picker for SQL ...</td>\n",
       "      <td>1</td>\n",
       "    </tr>\n",
       "    <tr>\n",
       "      <th>2010</th>\n",
       "      <td>51</td>\n",
       "      <td>51</td>\n",
       "      <td>asmx webservice use list object</td>\n",
       "      <td>1</td>\n",
       "      <td>51</td>\n",
       "      <td>51</td>\n",
       "      <td>&lt;p&gt;I have developed WCF service in Visual Stud...</td>\n",
       "      <td>1</td>\n",
       "    </tr>\n",
       "    <tr>\n",
       "      <th>...</th>\n",
       "      <td>...</td>\n",
       "      <td>...</td>\n",
       "      <td>...</td>\n",
       "      <td>...</td>\n",
       "      <td>...</td>\n",
       "      <td>...</td>\n",
       "      <td>...</td>\n",
       "      <td>...</td>\n",
       "    </tr>\n",
       "    <tr>\n",
       "      <th>xna</th>\n",
       "      <td>3</td>\n",
       "      <td>3</td>\n",
       "      <td>sample generating garbage</td>\n",
       "      <td>1</td>\n",
       "      <td>3</td>\n",
       "      <td>3</td>\n",
       "      <td>&lt;pre class=\"lang-cs prettyprint-override\"&gt;&lt;cod...</td>\n",
       "      <td>1</td>\n",
       "    </tr>\n",
       "    <tr>\n",
       "      <th>xul</th>\n",
       "      <td>1</td>\n",
       "      <td>1</td>\n",
       "      <td>xul create menu items dynamically set selected...</td>\n",
       "      <td>1</td>\n",
       "      <td>1</td>\n",
       "      <td>1</td>\n",
       "      <td>&lt;p&gt;I have a firefox extension Options pref pan...</td>\n",
       "      <td>1</td>\n",
       "    </tr>\n",
       "    <tr>\n",
       "      <th>youtube</th>\n",
       "      <td>1</td>\n",
       "      <td>1</td>\n",
       "      <td>way arrange movies youtube videobar</td>\n",
       "      <td>1</td>\n",
       "      <td>1</td>\n",
       "      <td>1</td>\n",
       "      <td>&lt;p&gt;&lt;br /&gt;\\nI am using the &lt;a href=\"http://www....</td>\n",
       "      <td>1</td>\n",
       "    </tr>\n",
       "    <tr>\n",
       "      <th>yum</th>\n",
       "      <td>1</td>\n",
       "      <td>1</td>\n",
       "      <td>update version gcc c fedora</td>\n",
       "      <td>1</td>\n",
       "      <td>1</td>\n",
       "      <td>1</td>\n",
       "      <td>&lt;p&gt;I have version 4.4.4 of &lt;code&gt;gcc&lt;/code&gt; in...</td>\n",
       "      <td>1</td>\n",
       "    </tr>\n",
       "    <tr>\n",
       "      <th>zip</th>\n",
       "      <td>1</td>\n",
       "      <td>1</td>\n",
       "      <td>possible zip contents directory c</td>\n",
       "      <td>1</td>\n",
       "      <td>1</td>\n",
       "      <td>1</td>\n",
       "      <td>&lt;p&gt;Im developing a c# application which has to...</td>\n",
       "      <td>1</td>\n",
       "    </tr>\n",
       "  </tbody>\n",
       "</table>\n",
       "<p>433 rows × 8 columns</p>\n",
       "</div>"
      ],
      "text/plain": [
       "               Title         \\\n",
       "               count unique   \n",
       "Tags                          \n",
       ".htaccess          1      1   \n",
       ".net            2115   2096   \n",
       ".net-framework     3      3   \n",
       "2007              11     11   \n",
       "2010              51     51   \n",
       "...              ...    ...   \n",
       "xna                3      3   \n",
       "xul                1      1   \n",
       "youtube            1      1   \n",
       "yum                1      1   \n",
       "zip                1      1   \n",
       "\n",
       "                                                                        Body  \\\n",
       "                                                              top freq count   \n",
       "Tags                                                                           \n",
       ".htaccess                                      pre gzip static js    1     1   \n",
       ".net                            expose net object remote c client    2  2115   \n",
       ".net-framework         asp net dotnetnuke using pre made websites    1     3   \n",
       "2007            default reader site group people picker retrie...    1    11   \n",
       "2010                              asmx webservice use list object    1    51   \n",
       "...                                                           ...  ...   ...   \n",
       "xna                                     sample generating garbage    1     3   \n",
       "xul             xul create menu items dynamically set selected...    1     1   \n",
       "youtube                       way arrange movies youtube videobar    1     1   \n",
       "yum                                   update version gcc c fedora    1     1   \n",
       "zip                             possible zip contents directory c    1     1   \n",
       "\n",
       "                                                                               \n",
       "               unique                                                top freq  \n",
       "Tags                                                                           \n",
       ".htaccess           1  <p>my site is running IPB 3.1.4 and I want to ...    1  \n",
       ".net             2113  <p>We have a .net library developed in C#.\\nIt...    2  \n",
       ".net-framework      3  <p>I would really appreciate any useful inform...    1  \n",
       "2007               11  <p>I have an issue with people picker for SQL ...    1  \n",
       "2010               51  <p>I have developed WCF service in Visual Stud...    1  \n",
       "...               ...                                                ...  ...  \n",
       "xna                 3  <pre class=\"lang-cs prettyprint-override\"><cod...    1  \n",
       "xul                 1  <p>I have a firefox extension Options pref pan...    1  \n",
       "youtube             1  <p><br />\\nI am using the <a href=\"http://www....    1  \n",
       "yum                 1  <p>I have version 4.4.4 of <code>gcc</code> in...    1  \n",
       "zip                 1  <p>Im developing a c# application which has to...    1  \n",
       "\n",
       "[433 rows x 8 columns]"
      ]
     },
     "execution_count": 31,
     "metadata": {},
     "output_type": "execute_result"
    }
   ],
   "source": [
    "k.groupby([\"Tags\"]).describe()\n"
   ]
  },
  {
   "cell_type": "code",
   "execution_count": 32,
   "metadata": {},
   "outputs": [
    {
     "data": {
      "text/html": [
       "<div>\n",
       "<style scoped>\n",
       "    .dataframe tbody tr th:only-of-type {\n",
       "        vertical-align: middle;\n",
       "    }\n",
       "\n",
       "    .dataframe tbody tr th {\n",
       "        vertical-align: top;\n",
       "    }\n",
       "\n",
       "    .dataframe thead th {\n",
       "        text-align: right;\n",
       "    }\n",
       "</style>\n",
       "<table border=\"1\" class=\"dataframe\">\n",
       "  <thead>\n",
       "    <tr style=\"text-align: right;\">\n",
       "      <th></th>\n",
       "      <th>Title</th>\n",
       "      <th>Body</th>\n",
       "      <th>Tags</th>\n",
       "    </tr>\n",
       "  </thead>\n",
       "  <tbody>\n",
       "    <tr>\n",
       "      <th>0</th>\n",
       "      <td>implementing boundary value analysis software ...</td>\n",
       "      <td>&lt;pre&gt;&lt;code&gt;#include&amp;lt;iostream&amp;gt;\\n#include&amp;...</td>\n",
       "      <td>c++</td>\n",
       "    </tr>\n",
       "    <tr>\n",
       "      <th>1</th>\n",
       "      <td>dynamic datagrid binding silverlight</td>\n",
       "      <td>&lt;p&gt;I should do binding for datagrid dynamicall...</td>\n",
       "      <td>c#</td>\n",
       "    </tr>\n",
       "    <tr>\n",
       "      <th>2</th>\n",
       "      <td>dynamic datagrid binding silverlight</td>\n",
       "      <td>&lt;p&gt;I should do binding for datagrid dynamicall...</td>\n",
       "      <td>c#</td>\n",
       "    </tr>\n",
       "    <tr>\n",
       "      <th>3</th>\n",
       "      <td>java lang nosuchmethoderror javax servlet serv...</td>\n",
       "      <td>&lt;p&gt;i want to have a servlet to process inputs ...</td>\n",
       "      <td>java</td>\n",
       "    </tr>\n",
       "    <tr>\n",
       "      <th>4</th>\n",
       "      <td>specified initialization vector iv match block...</td>\n",
       "      <td>&lt;p&gt;I've had troubles using an CryptoStream for...</td>\n",
       "      <td>c#</td>\n",
       "    </tr>\n",
       "    <tr>\n",
       "      <th>...</th>\n",
       "      <td>...</td>\n",
       "      <td>...</td>\n",
       "      <td>...</td>\n",
       "    </tr>\n",
       "    <tr>\n",
       "      <th>832007</th>\n",
       "      <td>var variables variables global variables insid...</td>\n",
       "      <td>&lt;p&gt;After my last question, this one is more ac...</td>\n",
       "      <td>javascript</td>\n",
       "    </tr>\n",
       "    <tr>\n",
       "      <th>832008</th>\n",
       "      <td>menuinterface menu exit never assigned always ...</td>\n",
       "      <td>&lt;p&gt;How I can use Exit() in another class? I wa...</td>\n",
       "      <td>c#</td>\n",
       "    </tr>\n",
       "    <tr>\n",
       "      <th>832009</th>\n",
       "      <td>gets converted domdocument xpath</td>\n",
       "      <td>&lt;p&gt;If I have&lt;/p&gt;\\n\\n&lt;pre&gt;&lt;code&gt;&amp;lt;p id='test'...</td>\n",
       "      <td>php</td>\n",
       "    </tr>\n",
       "    <tr>\n",
       "      <th>832010</th>\n",
       "      <td>gets converted inserted mysql table</td>\n",
       "      <td>&lt;p&gt;The infinity (&lt;code&gt;∞&lt;/code&gt;) symbol gets c...</td>\n",
       "      <td>php</td>\n",
       "    </tr>\n",
       "    <tr>\n",
       "      <th>832011</th>\n",
       "      <td>nehe sdk</td>\n",
       "      <td>&lt;p&gt;很感谢您在网上分享的关于Nehe的中文教程。\\n         在配置SDK时候，我...</td>\n",
       "      <td>c++</td>\n",
       "    </tr>\n",
       "  </tbody>\n",
       "</table>\n",
       "<p>832012 rows × 3 columns</p>\n",
       "</div>"
      ],
      "text/plain": [
       "                                                    Title  \\\n",
       "0       implementing boundary value analysis software ...   \n",
       "1                    dynamic datagrid binding silverlight   \n",
       "2                    dynamic datagrid binding silverlight   \n",
       "3       java lang nosuchmethoderror javax servlet serv...   \n",
       "4       specified initialization vector iv match block...   \n",
       "...                                                   ...   \n",
       "832007  var variables variables global variables insid...   \n",
       "832008  menuinterface menu exit never assigned always ...   \n",
       "832009                   gets converted domdocument xpath   \n",
       "832010                gets converted inserted mysql table   \n",
       "832011                                           nehe sdk   \n",
       "\n",
       "                                                     Body        Tags  \n",
       "0       <pre><code>#include&lt;iostream&gt;\\n#include&...         c++  \n",
       "1       <p>I should do binding for datagrid dynamicall...          c#  \n",
       "2       <p>I should do binding for datagrid dynamicall...          c#  \n",
       "3       <p>i want to have a servlet to process inputs ...        java  \n",
       "4       <p>I've had troubles using an CryptoStream for...          c#  \n",
       "...                                                   ...         ...  \n",
       "832007  <p>After my last question, this one is more ac...  javascript  \n",
       "832008  <p>How I can use Exit() in another class? I wa...          c#  \n",
       "832009  <p>If I have</p>\\n\\n<pre><code>&lt;p id='test'...         php  \n",
       "832010  <p>The infinity (<code>∞</code>) symbol gets c...         php  \n",
       "832011  <p>很感谢您在网上分享的关于Nehe的中文教程。\\n         在配置SDK时候，我...         c++  \n",
       "\n",
       "[832012 rows x 3 columns]"
      ]
     },
     "execution_count": 32,
     "metadata": {},
     "output_type": "execute_result"
    }
   ],
   "source": [
    "k"
   ]
  },
  {
   "cell_type": "code",
   "execution_count": 33,
   "metadata": {
    "id": "eZlX3f-mCpcE"
   },
   "outputs": [],
   "source": [
    "k[k.Tags == \"2007\"]\n",
    "#tag_list = [\"c#\", \"java\", \"c++\", \"ios\", \"c\", \"javascript\"]\n",
    "tag_list = [\"c#\",\"java\", \"asp.net\", \"c++\", \"c\", \"ios\" , \"javascript\"]"
   ]
  },
  {
   "cell_type": "code",
   "execution_count": 34,
   "metadata": {},
   "outputs": [
    {
     "name": "stderr",
     "output_type": "stream",
     "text": [
      "100%|███████████████████████████████████████████████████████████████████████| 832012/832012 [00:15<00:00, 53635.53it/s]\n"
     ]
    }
   ],
   "source": [
    "new_indices = []\n",
    "for i in tqdm(range(k.shape[0])):\n",
    "    for j in tag_list:\n",
    "        if j == k.Tags.iloc[i]:\n",
    "            new_indices.append(i)\n",
    "            break"
   ]
  },
  {
   "cell_type": "code",
   "execution_count": 35,
   "metadata": {},
   "outputs": [
    {
     "data": {
      "text/plain": [
       "774237"
      ]
     },
     "execution_count": 35,
     "metadata": {},
     "output_type": "execute_result"
    }
   ],
   "source": [
    "len(new_indices)"
   ]
  },
  {
   "cell_type": "code",
   "execution_count": 36,
   "metadata": {},
   "outputs": [],
   "source": [
    "k = k.iloc[new_indices]"
   ]
  },
  {
   "cell_type": "code",
   "execution_count": 37,
   "metadata": {},
   "outputs": [
    {
     "data": {
      "text/html": [
       "<div>\n",
       "<style scoped>\n",
       "    .dataframe tbody tr th:only-of-type {\n",
       "        vertical-align: middle;\n",
       "    }\n",
       "\n",
       "    .dataframe tbody tr th {\n",
       "        vertical-align: top;\n",
       "    }\n",
       "\n",
       "    .dataframe thead tr th {\n",
       "        text-align: left;\n",
       "    }\n",
       "\n",
       "    .dataframe thead tr:last-of-type th {\n",
       "        text-align: right;\n",
       "    }\n",
       "</style>\n",
       "<table border=\"1\" class=\"dataframe\">\n",
       "  <thead>\n",
       "    <tr>\n",
       "      <th></th>\n",
       "      <th colspan=\"4\" halign=\"left\">Title</th>\n",
       "      <th colspan=\"4\" halign=\"left\">Body</th>\n",
       "    </tr>\n",
       "    <tr>\n",
       "      <th></th>\n",
       "      <th>count</th>\n",
       "      <th>unique</th>\n",
       "      <th>top</th>\n",
       "      <th>freq</th>\n",
       "      <th>count</th>\n",
       "      <th>unique</th>\n",
       "      <th>top</th>\n",
       "      <th>freq</th>\n",
       "    </tr>\n",
       "    <tr>\n",
       "      <th>Tags</th>\n",
       "      <th></th>\n",
       "      <th></th>\n",
       "      <th></th>\n",
       "      <th></th>\n",
       "      <th></th>\n",
       "      <th></th>\n",
       "      <th></th>\n",
       "      <th></th>\n",
       "    </tr>\n",
       "  </thead>\n",
       "  <tbody>\n",
       "    <tr>\n",
       "      <th>asp.net</th>\n",
       "      <td>43921</td>\n",
       "      <td>43119</td>\n",
       "      <td></td>\n",
       "      <td>14</td>\n",
       "      <td>43921</td>\n",
       "      <td>43535</td>\n",
       "      <td>&lt;p&gt;I have a asp.net webpage with a series of h...</td>\n",
       "      <td>2</td>\n",
       "    </tr>\n",
       "    <tr>\n",
       "      <th>c</th>\n",
       "      <td>35421</td>\n",
       "      <td>34343</td>\n",
       "      <td>mean</td>\n",
       "      <td>12</td>\n",
       "      <td>35421</td>\n",
       "      <td>34765</td>\n",
       "      <td>&lt;p&gt;I am getting an error that says:&lt;/p&gt;\\n\\n&lt;p&gt;...</td>\n",
       "      <td>3</td>\n",
       "    </tr>\n",
       "    <tr>\n",
       "      <th>c#</th>\n",
       "      <td>216114</td>\n",
       "      <td>212217</td>\n",
       "      <td></td>\n",
       "      <td>23</td>\n",
       "      <td>216114</td>\n",
       "      <td>214429</td>\n",
       "      <td>&lt;p&gt;I have a chart that looks like this:&lt;/p&gt;\\n\\...</td>\n",
       "      <td>3</td>\n",
       "    </tr>\n",
       "    <tr>\n",
       "      <th>c++</th>\n",
       "      <td>90623</td>\n",
       "      <td>88342</td>\n",
       "      <td></td>\n",
       "      <td>26</td>\n",
       "      <td>90623</td>\n",
       "      <td>89547</td>\n",
       "      <td>&lt;p&gt;I have a project for school where we need t...</td>\n",
       "      <td>3</td>\n",
       "    </tr>\n",
       "    <tr>\n",
       "      <th>ios</th>\n",
       "      <td>32124</td>\n",
       "      <td>31785</td>\n",
       "      <td>collision detection</td>\n",
       "      <td>3</td>\n",
       "      <td>32124</td>\n",
       "      <td>31946</td>\n",
       "      <td>&lt;p&gt;Is it possible to make a plist type file wi...</td>\n",
       "      <td>2</td>\n",
       "    </tr>\n",
       "    <tr>\n",
       "      <th>java</th>\n",
       "      <td>198230</td>\n",
       "      <td>193676</td>\n",
       "      <td></td>\n",
       "      <td>40</td>\n",
       "      <td>198230</td>\n",
       "      <td>195993</td>\n",
       "      <td>&lt;p&gt;I am interested in doing this C code in Jav...</td>\n",
       "      <td>3</td>\n",
       "    </tr>\n",
       "    <tr>\n",
       "      <th>javascript</th>\n",
       "      <td>157804</td>\n",
       "      <td>154795</td>\n",
       "      <td>javascript</td>\n",
       "      <td>47</td>\n",
       "      <td>157804</td>\n",
       "      <td>156766</td>\n",
       "      <td>&lt;p&gt;I am doing research on a subject. The sites...</td>\n",
       "      <td>2</td>\n",
       "    </tr>\n",
       "  </tbody>\n",
       "</table>\n",
       "</div>"
      ],
      "text/plain": [
       "             Title                                      Body          \\\n",
       "             count  unique                  top freq   count  unique   \n",
       "Tags                                                                   \n",
       "asp.net      43921   43119                        14   43921   43535   \n",
       "c            35421   34343                 mean   12   35421   34765   \n",
       "c#          216114  212217                        23  216114  214429   \n",
       "c++          90623   88342                        26   90623   89547   \n",
       "ios          32124   31785  collision detection    3   32124   31946   \n",
       "java        198230  193676                        40  198230  195993   \n",
       "javascript  157804  154795           javascript   47  157804  156766   \n",
       "\n",
       "                                                                    \n",
       "                                                          top freq  \n",
       "Tags                                                                \n",
       "asp.net     <p>I have a asp.net webpage with a series of h...    2  \n",
       "c           <p>I am getting an error that says:</p>\\n\\n<p>...    3  \n",
       "c#          <p>I have a chart that looks like this:</p>\\n\\...    3  \n",
       "c++         <p>I have a project for school where we need t...    3  \n",
       "ios         <p>Is it possible to make a plist type file wi...    2  \n",
       "java        <p>I am interested in doing this C code in Jav...    3  \n",
       "javascript  <p>I am doing research on a subject. The sites...    2  "
      ]
     },
     "execution_count": 37,
     "metadata": {},
     "output_type": "execute_result"
    }
   ],
   "source": [
    "k.groupby([\"Tags\"]).describe()"
   ]
  },
  {
   "cell_type": "code",
   "execution_count": 38,
   "metadata": {},
   "outputs": [],
   "source": [
    "if not os.path.isfile('processed.db'):\n",
    "    processed = create_engine(\"sqlite:///processed.db\")\n",
    "    k.to_sql('processed',processed)"
   ]
  },
  {
   "cell_type": "code",
   "execution_count": 39,
   "metadata": {},
   "outputs": [],
   "source": [
    "con = sqlite3.connect('processed.db')\n",
    "processed = pd.read_sql_query(\"\"\"SELECT * FROM processed\"\"\", con)\n",
    "con.close()"
   ]
  },
  {
   "cell_type": "code",
   "execution_count": 40,
   "metadata": {},
   "outputs": [
    {
     "data": {
      "text/html": [
       "<div>\n",
       "<style scoped>\n",
       "    .dataframe tbody tr th:only-of-type {\n",
       "        vertical-align: middle;\n",
       "    }\n",
       "\n",
       "    .dataframe tbody tr th {\n",
       "        vertical-align: top;\n",
       "    }\n",
       "\n",
       "    .dataframe thead th {\n",
       "        text-align: right;\n",
       "    }\n",
       "</style>\n",
       "<table border=\"1\" class=\"dataframe\">\n",
       "  <thead>\n",
       "    <tr style=\"text-align: right;\">\n",
       "      <th></th>\n",
       "      <th>Title</th>\n",
       "      <th>Body</th>\n",
       "      <th>Tags</th>\n",
       "    </tr>\n",
       "  </thead>\n",
       "  <tbody>\n",
       "    <tr>\n",
       "      <th>0</th>\n",
       "      <td>implementing boundary value analysis software ...</td>\n",
       "      <td>&lt;pre&gt;&lt;code&gt;#include&amp;lt;iostream&amp;gt;\\n#include&amp;...</td>\n",
       "      <td>c++</td>\n",
       "    </tr>\n",
       "    <tr>\n",
       "      <th>1</th>\n",
       "      <td>dynamic datagrid binding silverlight</td>\n",
       "      <td>&lt;p&gt;I should do binding for datagrid dynamicall...</td>\n",
       "      <td>c#</td>\n",
       "    </tr>\n",
       "    <tr>\n",
       "      <th>2</th>\n",
       "      <td>dynamic datagrid binding silverlight</td>\n",
       "      <td>&lt;p&gt;I should do binding for datagrid dynamicall...</td>\n",
       "      <td>c#</td>\n",
       "    </tr>\n",
       "    <tr>\n",
       "      <th>3</th>\n",
       "      <td>java lang nosuchmethoderror javax servlet serv...</td>\n",
       "      <td>&lt;p&gt;i want to have a servlet to process inputs ...</td>\n",
       "      <td>java</td>\n",
       "    </tr>\n",
       "    <tr>\n",
       "      <th>4</th>\n",
       "      <td>specified initialization vector iv match block...</td>\n",
       "      <td>&lt;p&gt;I've had troubles using an CryptoStream for...</td>\n",
       "      <td>c#</td>\n",
       "    </tr>\n",
       "    <tr>\n",
       "      <th>5</th>\n",
       "      <td>selcurrentmanuf declared may inaccessible due ...</td>\n",
       "      <td>&lt;p&gt;i have a drop down list i am trying to use ...</td>\n",
       "      <td>asp.net</td>\n",
       "    </tr>\n",
       "    <tr>\n",
       "      <th>6</th>\n",
       "      <td>things division zero c</td>\n",
       "      <td>&lt;blockquote&gt;\\n  &lt;p&gt;&lt;strong&gt;Possible Duplicate:...</td>\n",
       "      <td>c++</td>\n",
       "    </tr>\n",
       "    <tr>\n",
       "      <th>7</th>\n",
       "      <td>asp net mvc single page application using java...</td>\n",
       "      <td>&lt;p&gt;I have recently built an single-page ASP.NE...</td>\n",
       "      <td>javascript</td>\n",
       "    </tr>\n",
       "    <tr>\n",
       "      <th>8</th>\n",
       "      <td>adapter pattern</td>\n",
       "      <td>&lt;p&gt;I have a problem in which I have to copy da...</td>\n",
       "      <td>c#</td>\n",
       "    </tr>\n",
       "    <tr>\n",
       "      <th>9</th>\n",
       "      <td>add custom html attributes generated controls</td>\n",
       "      <td>&lt;p&gt;I just want to add a placeholder for my gen...</td>\n",
       "      <td>asp.net</td>\n",
       "    </tr>\n",
       "    <tr>\n",
       "      <th>10</th>\n",
       "      <td>ajax functions like load strip comments html k...</td>\n",
       "      <td>&lt;p&gt;For example, &lt;code&gt;$('#some-div').load('htt...</td>\n",
       "      <td>javascript</td>\n",
       "    </tr>\n",
       "    <tr>\n",
       "      <th>11</th>\n",
       "      <td>alternate ways store data</td>\n",
       "      <td>&lt;p&gt;Hey guys I'm searching for an alternative w...</td>\n",
       "      <td>c#</td>\n",
       "    </tr>\n",
       "    <tr>\n",
       "      <th>12</th>\n",
       "      <td>android make spinner show item selecting items...</td>\n",
       "      <td>&lt;p&gt;This is my code:&lt;/p&gt;\\n\\n&lt;pre&gt;&lt;code&gt;    pack...</td>\n",
       "      <td>java</td>\n",
       "    </tr>\n",
       "    <tr>\n",
       "      <th>13</th>\n",
       "      <td>way using java nio interrupt inputstream read ...</td>\n",
       "      <td>&lt;p&gt;Do you know of a way to interrupt a read fr...</td>\n",
       "      <td>java</td>\n",
       "    </tr>\n",
       "    <tr>\n",
       "      <th>14</th>\n",
       "      <td>backgroundworker onprogresschanged still fired...</td>\n",
       "      <td>&lt;p&gt;My application used &lt;code&gt;BackgroundWorker&lt;...</td>\n",
       "      <td>c#</td>\n",
       "    </tr>\n",
       "    <tr>\n",
       "      <th>15</th>\n",
       "      <td>boolean inside select</td>\n",
       "      <td>&lt;p&gt;I have a person table filled with Person in...</td>\n",
       "      <td>c#</td>\n",
       "    </tr>\n",
       "    <tr>\n",
       "      <th>16</th>\n",
       "      <td>c overloading operator</td>\n",
       "      <td>&lt;pre&gt;&lt;code&gt;//overloading operator ==\\nclass Po...</td>\n",
       "      <td>c#</td>\n",
       "    </tr>\n",
       "    <tr>\n",
       "      <th>17</th>\n",
       "      <td>c linker error</td>\n",
       "      <td>&lt;p&gt;I encounter a problem about LNK2019 when I ...</td>\n",
       "      <td>c++</td>\n",
       "    </tr>\n",
       "    <tr>\n",
       "      <th>18</th>\n",
       "      <td>css loaded multiple html pages jquery mobile p...</td>\n",
       "      <td>&lt;p&gt;I have implemented a &lt;strong&gt;Phone Gap appl...</td>\n",
       "      <td>javascript</td>\n",
       "    </tr>\n",
       "    <tr>\n",
       "      <th>19</th>\n",
       "      <td>cached hidden input value used instead updated...</td>\n",
       "      <td>&lt;p&gt;I have an issue with IE9 using the initial ...</td>\n",
       "      <td>javascript</td>\n",
       "    </tr>\n",
       "  </tbody>\n",
       "</table>\n",
       "</div>"
      ],
      "text/plain": [
       "                                                Title  \\\n",
       "0   implementing boundary value analysis software ...   \n",
       "1                dynamic datagrid binding silverlight   \n",
       "2                dynamic datagrid binding silverlight   \n",
       "3   java lang nosuchmethoderror javax servlet serv...   \n",
       "4   specified initialization vector iv match block...   \n",
       "5   selcurrentmanuf declared may inaccessible due ...   \n",
       "6                              things division zero c   \n",
       "7   asp net mvc single page application using java...   \n",
       "8                                     adapter pattern   \n",
       "9       add custom html attributes generated controls   \n",
       "10  ajax functions like load strip comments html k...   \n",
       "11                          alternate ways store data   \n",
       "12  android make spinner show item selecting items...   \n",
       "13  way using java nio interrupt inputstream read ...   \n",
       "14  backgroundworker onprogresschanged still fired...   \n",
       "15                              boolean inside select   \n",
       "16                             c overloading operator   \n",
       "17                                     c linker error   \n",
       "18  css loaded multiple html pages jquery mobile p...   \n",
       "19  cached hidden input value used instead updated...   \n",
       "\n",
       "                                                 Body        Tags  \n",
       "0   <pre><code>#include&lt;iostream&gt;\\n#include&...         c++  \n",
       "1   <p>I should do binding for datagrid dynamicall...          c#  \n",
       "2   <p>I should do binding for datagrid dynamicall...          c#  \n",
       "3   <p>i want to have a servlet to process inputs ...        java  \n",
       "4   <p>I've had troubles using an CryptoStream for...          c#  \n",
       "5   <p>i have a drop down list i am trying to use ...     asp.net  \n",
       "6   <blockquote>\\n  <p><strong>Possible Duplicate:...         c++  \n",
       "7   <p>I have recently built an single-page ASP.NE...  javascript  \n",
       "8   <p>I have a problem in which I have to copy da...          c#  \n",
       "9   <p>I just want to add a placeholder for my gen...     asp.net  \n",
       "10  <p>For example, <code>$('#some-div').load('htt...  javascript  \n",
       "11  <p>Hey guys I'm searching for an alternative w...          c#  \n",
       "12  <p>This is my code:</p>\\n\\n<pre><code>    pack...        java  \n",
       "13  <p>Do you know of a way to interrupt a read fr...        java  \n",
       "14  <p>My application used <code>BackgroundWorker<...          c#  \n",
       "15  <p>I have a person table filled with Person in...          c#  \n",
       "16  <pre><code>//overloading operator ==\\nclass Po...          c#  \n",
       "17  <p>I encounter a problem about LNK2019 when I ...         c++  \n",
       "18  <p>I have implemented a <strong>Phone Gap appl...  javascript  \n",
       "19  <p>I have an issue with IE9 using the initial ...  javascript  "
      ]
     },
     "execution_count": 40,
     "metadata": {},
     "output_type": "execute_result"
    }
   ],
   "source": [
    "processed = processed.drop([\"index\"],axis = 1)\n",
    "processed.head(20)"
   ]
  },
  {
   "cell_type": "markdown",
   "metadata": {
    "id": "TPKYwgdpEeTk"
   },
   "source": [
    "SEARCHENGINE\n"
   ]
  },
  {
   "cell_type": "code",
   "execution_count": 144,
   "metadata": {
    "id": "mcDQKTL_EgY1"
   },
   "outputs": [
    {
     "data": {
      "text/plain": [
       "(774237, 79314)"
      ]
     },
     "execution_count": 144,
     "metadata": {},
     "output_type": "execute_result"
    }
   ],
   "source": [
    "#CountVectoriser\n",
    "vectorizer = CountVectorizer()\n",
    "bow_features = vectorizer.fit_transform(processed['Title'])\n",
    "bow_features.get_shape()"
   ]
  },
  {
   "cell_type": "code",
   "execution_count": 145,
   "metadata": {
    "id": "VWgEf7MzMeKc"
   },
   "outputs": [
    {
     "data": {
      "text/plain": [
       "(774237, 79314)"
      ]
     },
     "execution_count": 145,
     "metadata": {},
     "output_type": "execute_result"
    }
   ],
   "source": [
    "#TfidfVectoriser\n",
    "tfidf = TfidfVectorizer()\n",
    "tfidf_features = tfidf.fit_transform(processed.Title)\n",
    "tfidf_features.get_shape()"
   ]
  },
  {
   "cell_type": "code",
   "execution_count": 146,
   "metadata": {
    "id": "R6LWpb3_WTQq"
   },
   "outputs": [],
   "source": [
    "def process_query(query):\n",
    "  preprocessed_reviews = []\n",
    "  sentence = re.sub(\"\\S*\\d\\S*\", \"\", query).strip()\n",
    "  sentence = re.sub('[^A-Za-z]+', ' ', sentence)\n",
    "  sentence = ' '.join(e.lower() for e in sentence.split() if e.lower() not in stopwords.words('english'))\n",
    "  preprocessed_reviews.append(sentence.strip())\n",
    "  return preprocessed_reviews\n",
    "  "
   ]
  },
  {
   "cell_type": "code",
   "execution_count": 147,
   "metadata": {
    "id": "WrAxy6dZXft8"
   },
   "outputs": [],
   "source": [
    "from sklearn.metrics.pairwise import pairwise_distances\n",
    "def tfidf_search(tfidf, query):\n",
    "  query = process_query(query)\n",
    "  query_trans = tfidf.transform(query)\n",
    "  pairwise_dist = pairwise_distances(tfidf_features, query_trans)\n",
    "  indices = np.argsort(pairwise_dist.flatten())[0:10]\n",
    "  df_indices = list(processed.index[indices])\n",
    "  return df_indices\n",
    "  "
   ]
  },
  {
   "cell_type": "code",
   "execution_count": 148,
   "metadata": {
    "id": "xfcrIZd4YJ3x"
   },
   "outputs": [],
   "source": [
    "def bow_search(vectorizer, query):\n",
    "  query = process_query(query)\n",
    "  query_trans = vectorizer.transform(query)\n",
    "  pairwise_dist = pairwise_distances(bow_features, query_trans)\n",
    "  indices = np.argsort(pairwise_dist.flatten())[0:10]\n",
    "  df_indices = list(processed.index[indices])\n",
    "  return df_indices"
   ]
  },
  {
   "cell_type": "code",
   "execution_count": 149,
   "metadata": {
    "id": "fTnIFNlUYfeD"
   },
   "outputs": [],
   "source": [
    "def search(query, typ = \"tfidf\"):\n",
    "  if typ == \"tfidf\":\n",
    "    val = tfidf_search(tfidf, query)\n",
    "  else:\n",
    "    val = bow_search(vectorizer, query)\n",
    "  return val"
   ]
  },
  {
   "cell_type": "code",
   "execution_count": 150,
   "metadata": {
    "id": "Heib-xGSYxhf"
   },
   "outputs": [],
   "source": [
    "query = \"Create Non-Culture Based ResourceManager for ASP.Net\"\n",
    "df_indices = search(query)"
   ]
  },
  {
   "cell_type": "code",
   "execution_count": 151,
   "metadata": {
    "id": "gFew7VV7Y3-1"
   },
   "outputs": [
    {
     "name": "stdout",
     "output_type": "stream",
     "text": [
      "The query is:  Create Non-Culture Based ResourceManager for ASP.Net\n",
      "The top prediced results are: \n",
      "Title:  using resourcemanager\n",
      "Title:  override resourcemanager asp net mvc application\n",
      "Title:  \n",
      "Title:  \n",
      "Title:  \n",
      "Title:  c\n",
      "Title:  \n",
      "Title:  \n",
      "Title:  c\n",
      "Title:  c\n"
     ]
    }
   ],
   "source": [
    "print(\"The query is: \",query)\n",
    "print(\"The top prediced results are: \")\n",
    "for i in df_indices:\n",
    "  print(\"Title: \", processed.Title.iloc[i])"
   ]
  },
  {
   "cell_type": "code",
   "execution_count": 152,
   "metadata": {
    "id": "4A5P-UTgZMZi"
   },
   "outputs": [
    {
     "name": "stdout",
     "output_type": "stream",
     "text": [
      "The query is:  Create Non-Culture Based ResourceManager for ASP.Net\n",
      "The top prediced results are: \n",
      "Title:  asp net\n",
      "Title:  asp net\n",
      "Title:  asp net\n",
      "Title:  create solution asp net\n",
      "Title:  asp net\n",
      "Title:  create excel asp net\n",
      "Title:  asp net c\n",
      "Title:  create graphs asp net\n",
      "Title:  asp net\n",
      "Title:  create asp net z list\n"
     ]
    }
   ],
   "source": [
    "df_indices = search(query, \"bow\")\n",
    "print(\"The query is: \",query)\n",
    "print(\"The top prediced results are: \")\n",
    "for i in df_indices:\n",
    "  print(\"Title: \", processed.Title.iloc[i])"
   ]
  },
  {
   "cell_type": "markdown",
   "metadata": {},
   "source": [
    "Till now we tried to predict using simple NLP. But it will not give exact result."
   ]
  },
  {
   "cell_type": "markdown",
   "metadata": {
    "id": "9vF_JI87iM4A"
   },
   "source": [
    "CLASSIFICATION"
   ]
  },
  {
   "cell_type": "code",
   "execution_count": 50,
   "metadata": {
    "id": "rKVW-jiJiKIu"
   },
   "outputs": [
    {
     "data": {
      "text/html": [
       "<div>\n",
       "<style scoped>\n",
       "    .dataframe tbody tr th:only-of-type {\n",
       "        vertical-align: middle;\n",
       "    }\n",
       "\n",
       "    .dataframe tbody tr th {\n",
       "        vertical-align: top;\n",
       "    }\n",
       "\n",
       "    .dataframe thead th {\n",
       "        text-align: right;\n",
       "    }\n",
       "</style>\n",
       "<table border=\"1\" class=\"dataframe\">\n",
       "  <thead>\n",
       "    <tr style=\"text-align: right;\">\n",
       "      <th></th>\n",
       "      <th>Title</th>\n",
       "      <th>Body</th>\n",
       "      <th>Tags</th>\n",
       "    </tr>\n",
       "  </thead>\n",
       "  <tbody>\n",
       "    <tr>\n",
       "      <th>0</th>\n",
       "      <td>implementing boundary value analysis software ...</td>\n",
       "      <td>&lt;pre&gt;&lt;code&gt;#include&amp;lt;iostream&amp;gt;\\n#include&amp;...</td>\n",
       "      <td>c++</td>\n",
       "    </tr>\n",
       "    <tr>\n",
       "      <th>1</th>\n",
       "      <td>dynamic datagrid binding silverlight</td>\n",
       "      <td>&lt;p&gt;I should do binding for datagrid dynamicall...</td>\n",
       "      <td>c#</td>\n",
       "    </tr>\n",
       "    <tr>\n",
       "      <th>2</th>\n",
       "      <td>dynamic datagrid binding silverlight</td>\n",
       "      <td>&lt;p&gt;I should do binding for datagrid dynamicall...</td>\n",
       "      <td>c#</td>\n",
       "    </tr>\n",
       "    <tr>\n",
       "      <th>3</th>\n",
       "      <td>java lang nosuchmethoderror javax servlet serv...</td>\n",
       "      <td>&lt;p&gt;i want to have a servlet to process inputs ...</td>\n",
       "      <td>java</td>\n",
       "    </tr>\n",
       "    <tr>\n",
       "      <th>4</th>\n",
       "      <td>specified initialization vector iv match block...</td>\n",
       "      <td>&lt;p&gt;I've had troubles using an CryptoStream for...</td>\n",
       "      <td>c#</td>\n",
       "    </tr>\n",
       "    <tr>\n",
       "      <th>5</th>\n",
       "      <td>selcurrentmanuf declared may inaccessible due ...</td>\n",
       "      <td>&lt;p&gt;i have a drop down list i am trying to use ...</td>\n",
       "      <td>asp.net</td>\n",
       "    </tr>\n",
       "    <tr>\n",
       "      <th>6</th>\n",
       "      <td>things division zero c</td>\n",
       "      <td>&lt;blockquote&gt;\\n  &lt;p&gt;&lt;strong&gt;Possible Duplicate:...</td>\n",
       "      <td>c++</td>\n",
       "    </tr>\n",
       "    <tr>\n",
       "      <th>7</th>\n",
       "      <td>asp net mvc single page application using java...</td>\n",
       "      <td>&lt;p&gt;I have recently built an single-page ASP.NE...</td>\n",
       "      <td>javascript</td>\n",
       "    </tr>\n",
       "    <tr>\n",
       "      <th>8</th>\n",
       "      <td>adapter pattern</td>\n",
       "      <td>&lt;p&gt;I have a problem in which I have to copy da...</td>\n",
       "      <td>c#</td>\n",
       "    </tr>\n",
       "    <tr>\n",
       "      <th>9</th>\n",
       "      <td>add custom html attributes generated controls</td>\n",
       "      <td>&lt;p&gt;I just want to add a placeholder for my gen...</td>\n",
       "      <td>asp.net</td>\n",
       "    </tr>\n",
       "    <tr>\n",
       "      <th>10</th>\n",
       "      <td>ajax functions like load strip comments html k...</td>\n",
       "      <td>&lt;p&gt;For example, &lt;code&gt;$('#some-div').load('htt...</td>\n",
       "      <td>javascript</td>\n",
       "    </tr>\n",
       "    <tr>\n",
       "      <th>11</th>\n",
       "      <td>alternate ways store data</td>\n",
       "      <td>&lt;p&gt;Hey guys I'm searching for an alternative w...</td>\n",
       "      <td>c#</td>\n",
       "    </tr>\n",
       "    <tr>\n",
       "      <th>12</th>\n",
       "      <td>android make spinner show item selecting items...</td>\n",
       "      <td>&lt;p&gt;This is my code:&lt;/p&gt;\\n\\n&lt;pre&gt;&lt;code&gt;    pack...</td>\n",
       "      <td>java</td>\n",
       "    </tr>\n",
       "    <tr>\n",
       "      <th>13</th>\n",
       "      <td>way using java nio interrupt inputstream read ...</td>\n",
       "      <td>&lt;p&gt;Do you know of a way to interrupt a read fr...</td>\n",
       "      <td>java</td>\n",
       "    </tr>\n",
       "    <tr>\n",
       "      <th>14</th>\n",
       "      <td>backgroundworker onprogresschanged still fired...</td>\n",
       "      <td>&lt;p&gt;My application used &lt;code&gt;BackgroundWorker&lt;...</td>\n",
       "      <td>c#</td>\n",
       "    </tr>\n",
       "    <tr>\n",
       "      <th>15</th>\n",
       "      <td>boolean inside select</td>\n",
       "      <td>&lt;p&gt;I have a person table filled with Person in...</td>\n",
       "      <td>c#</td>\n",
       "    </tr>\n",
       "    <tr>\n",
       "      <th>16</th>\n",
       "      <td>c overloading operator</td>\n",
       "      <td>&lt;pre&gt;&lt;code&gt;//overloading operator ==\\nclass Po...</td>\n",
       "      <td>c#</td>\n",
       "    </tr>\n",
       "    <tr>\n",
       "      <th>17</th>\n",
       "      <td>c linker error</td>\n",
       "      <td>&lt;p&gt;I encounter a problem about LNK2019 when I ...</td>\n",
       "      <td>c++</td>\n",
       "    </tr>\n",
       "    <tr>\n",
       "      <th>18</th>\n",
       "      <td>css loaded multiple html pages jquery mobile p...</td>\n",
       "      <td>&lt;p&gt;I have implemented a &lt;strong&gt;Phone Gap appl...</td>\n",
       "      <td>javascript</td>\n",
       "    </tr>\n",
       "    <tr>\n",
       "      <th>19</th>\n",
       "      <td>cached hidden input value used instead updated...</td>\n",
       "      <td>&lt;p&gt;I have an issue with IE9 using the initial ...</td>\n",
       "      <td>javascript</td>\n",
       "    </tr>\n",
       "  </tbody>\n",
       "</table>\n",
       "</div>"
      ],
      "text/plain": [
       "                                                Title  \\\n",
       "0   implementing boundary value analysis software ...   \n",
       "1                dynamic datagrid binding silverlight   \n",
       "2                dynamic datagrid binding silverlight   \n",
       "3   java lang nosuchmethoderror javax servlet serv...   \n",
       "4   specified initialization vector iv match block...   \n",
       "5   selcurrentmanuf declared may inaccessible due ...   \n",
       "6                              things division zero c   \n",
       "7   asp net mvc single page application using java...   \n",
       "8                                     adapter pattern   \n",
       "9       add custom html attributes generated controls   \n",
       "10  ajax functions like load strip comments html k...   \n",
       "11                          alternate ways store data   \n",
       "12  android make spinner show item selecting items...   \n",
       "13  way using java nio interrupt inputstream read ...   \n",
       "14  backgroundworker onprogresschanged still fired...   \n",
       "15                              boolean inside select   \n",
       "16                             c overloading operator   \n",
       "17                                     c linker error   \n",
       "18  css loaded multiple html pages jquery mobile p...   \n",
       "19  cached hidden input value used instead updated...   \n",
       "\n",
       "                                                 Body        Tags  \n",
       "0   <pre><code>#include&lt;iostream&gt;\\n#include&...         c++  \n",
       "1   <p>I should do binding for datagrid dynamicall...          c#  \n",
       "2   <p>I should do binding for datagrid dynamicall...          c#  \n",
       "3   <p>i want to have a servlet to process inputs ...        java  \n",
       "4   <p>I've had troubles using an CryptoStream for...          c#  \n",
       "5   <p>i have a drop down list i am trying to use ...     asp.net  \n",
       "6   <blockquote>\\n  <p><strong>Possible Duplicate:...         c++  \n",
       "7   <p>I have recently built an single-page ASP.NE...  javascript  \n",
       "8   <p>I have a problem in which I have to copy da...          c#  \n",
       "9   <p>I just want to add a placeholder for my gen...     asp.net  \n",
       "10  <p>For example, <code>$('#some-div').load('htt...  javascript  \n",
       "11  <p>Hey guys I'm searching for an alternative w...          c#  \n",
       "12  <p>This is my code:</p>\\n\\n<pre><code>    pack...        java  \n",
       "13  <p>Do you know of a way to interrupt a read fr...        java  \n",
       "14  <p>My application used <code>BackgroundWorker<...          c#  \n",
       "15  <p>I have a person table filled with Person in...          c#  \n",
       "16  <pre><code>//overloading operator ==\\nclass Po...          c#  \n",
       "17  <p>I encounter a problem about LNK2019 when I ...         c++  \n",
       "18  <p>I have implemented a <strong>Phone Gap appl...  javascript  \n",
       "19  <p>I have an issue with IE9 using the initial ...  javascript  "
      ]
     },
     "execution_count": 50,
     "metadata": {},
     "output_type": "execute_result"
    }
   ],
   "source": [
    "labels = {\"c#\" : 0, \"java\": 1, \"c++\": 2, \"c\" : 3, \"ios\":4 , \"javascript\":5 , \"asp.net\" :6}\n",
    "labels_map = {0 :\"c#\" , 1: \"java\", 2: \"c++\", 3: \"c\", 4: \"ios\" , 5: \"javascript\", 6: \"asp.net\"}\n",
    "processed.head(20)"
   ]
  },
  {
   "cell_type": "code",
   "execution_count": 51,
   "metadata": {
    "id": "taAt_-r2ipJB"
   },
   "outputs": [],
   "source": [
    "processed[\"Tags\"] = processed[\"Tags\"].map(labels)"
   ]
  },
  {
   "cell_type": "code",
   "execution_count": 52,
   "metadata": {
    "id": "ZLukPFjOizT9"
   },
   "outputs": [
    {
     "data": {
      "text/html": [
       "<div>\n",
       "<style scoped>\n",
       "    .dataframe tbody tr th:only-of-type {\n",
       "        vertical-align: middle;\n",
       "    }\n",
       "\n",
       "    .dataframe tbody tr th {\n",
       "        vertical-align: top;\n",
       "    }\n",
       "\n",
       "    .dataframe thead th {\n",
       "        text-align: right;\n",
       "    }\n",
       "</style>\n",
       "<table border=\"1\" class=\"dataframe\">\n",
       "  <thead>\n",
       "    <tr style=\"text-align: right;\">\n",
       "      <th></th>\n",
       "      <th>Title</th>\n",
       "      <th>Body</th>\n",
       "      <th>Tags</th>\n",
       "    </tr>\n",
       "  </thead>\n",
       "  <tbody>\n",
       "    <tr>\n",
       "      <th>0</th>\n",
       "      <td>implementing boundary value analysis software ...</td>\n",
       "      <td>&lt;pre&gt;&lt;code&gt;#include&amp;lt;iostream&amp;gt;\\n#include&amp;...</td>\n",
       "      <td>2</td>\n",
       "    </tr>\n",
       "    <tr>\n",
       "      <th>1</th>\n",
       "      <td>dynamic datagrid binding silverlight</td>\n",
       "      <td>&lt;p&gt;I should do binding for datagrid dynamicall...</td>\n",
       "      <td>0</td>\n",
       "    </tr>\n",
       "    <tr>\n",
       "      <th>2</th>\n",
       "      <td>dynamic datagrid binding silverlight</td>\n",
       "      <td>&lt;p&gt;I should do binding for datagrid dynamicall...</td>\n",
       "      <td>0</td>\n",
       "    </tr>\n",
       "    <tr>\n",
       "      <th>3</th>\n",
       "      <td>java lang nosuchmethoderror javax servlet serv...</td>\n",
       "      <td>&lt;p&gt;i want to have a servlet to process inputs ...</td>\n",
       "      <td>1</td>\n",
       "    </tr>\n",
       "    <tr>\n",
       "      <th>4</th>\n",
       "      <td>specified initialization vector iv match block...</td>\n",
       "      <td>&lt;p&gt;I've had troubles using an CryptoStream for...</td>\n",
       "      <td>0</td>\n",
       "    </tr>\n",
       "    <tr>\n",
       "      <th>5</th>\n",
       "      <td>selcurrentmanuf declared may inaccessible due ...</td>\n",
       "      <td>&lt;p&gt;i have a drop down list i am trying to use ...</td>\n",
       "      <td>6</td>\n",
       "    </tr>\n",
       "    <tr>\n",
       "      <th>6</th>\n",
       "      <td>things division zero c</td>\n",
       "      <td>&lt;blockquote&gt;\\n  &lt;p&gt;&lt;strong&gt;Possible Duplicate:...</td>\n",
       "      <td>2</td>\n",
       "    </tr>\n",
       "    <tr>\n",
       "      <th>7</th>\n",
       "      <td>asp net mvc single page application using java...</td>\n",
       "      <td>&lt;p&gt;I have recently built an single-page ASP.NE...</td>\n",
       "      <td>5</td>\n",
       "    </tr>\n",
       "    <tr>\n",
       "      <th>8</th>\n",
       "      <td>adapter pattern</td>\n",
       "      <td>&lt;p&gt;I have a problem in which I have to copy da...</td>\n",
       "      <td>0</td>\n",
       "    </tr>\n",
       "    <tr>\n",
       "      <th>9</th>\n",
       "      <td>add custom html attributes generated controls</td>\n",
       "      <td>&lt;p&gt;I just want to add a placeholder for my gen...</td>\n",
       "      <td>6</td>\n",
       "    </tr>\n",
       "    <tr>\n",
       "      <th>10</th>\n",
       "      <td>ajax functions like load strip comments html k...</td>\n",
       "      <td>&lt;p&gt;For example, &lt;code&gt;$('#some-div').load('htt...</td>\n",
       "      <td>5</td>\n",
       "    </tr>\n",
       "    <tr>\n",
       "      <th>11</th>\n",
       "      <td>alternate ways store data</td>\n",
       "      <td>&lt;p&gt;Hey guys I'm searching for an alternative w...</td>\n",
       "      <td>0</td>\n",
       "    </tr>\n",
       "    <tr>\n",
       "      <th>12</th>\n",
       "      <td>android make spinner show item selecting items...</td>\n",
       "      <td>&lt;p&gt;This is my code:&lt;/p&gt;\\n\\n&lt;pre&gt;&lt;code&gt;    pack...</td>\n",
       "      <td>1</td>\n",
       "    </tr>\n",
       "    <tr>\n",
       "      <th>13</th>\n",
       "      <td>way using java nio interrupt inputstream read ...</td>\n",
       "      <td>&lt;p&gt;Do you know of a way to interrupt a read fr...</td>\n",
       "      <td>1</td>\n",
       "    </tr>\n",
       "    <tr>\n",
       "      <th>14</th>\n",
       "      <td>backgroundworker onprogresschanged still fired...</td>\n",
       "      <td>&lt;p&gt;My application used &lt;code&gt;BackgroundWorker&lt;...</td>\n",
       "      <td>0</td>\n",
       "    </tr>\n",
       "    <tr>\n",
       "      <th>15</th>\n",
       "      <td>boolean inside select</td>\n",
       "      <td>&lt;p&gt;I have a person table filled with Person in...</td>\n",
       "      <td>0</td>\n",
       "    </tr>\n",
       "    <tr>\n",
       "      <th>16</th>\n",
       "      <td>c overloading operator</td>\n",
       "      <td>&lt;pre&gt;&lt;code&gt;//overloading operator ==\\nclass Po...</td>\n",
       "      <td>0</td>\n",
       "    </tr>\n",
       "    <tr>\n",
       "      <th>17</th>\n",
       "      <td>c linker error</td>\n",
       "      <td>&lt;p&gt;I encounter a problem about LNK2019 when I ...</td>\n",
       "      <td>2</td>\n",
       "    </tr>\n",
       "    <tr>\n",
       "      <th>18</th>\n",
       "      <td>css loaded multiple html pages jquery mobile p...</td>\n",
       "      <td>&lt;p&gt;I have implemented a &lt;strong&gt;Phone Gap appl...</td>\n",
       "      <td>5</td>\n",
       "    </tr>\n",
       "    <tr>\n",
       "      <th>19</th>\n",
       "      <td>cached hidden input value used instead updated...</td>\n",
       "      <td>&lt;p&gt;I have an issue with IE9 using the initial ...</td>\n",
       "      <td>5</td>\n",
       "    </tr>\n",
       "  </tbody>\n",
       "</table>\n",
       "</div>"
      ],
      "text/plain": [
       "                                                Title  \\\n",
       "0   implementing boundary value analysis software ...   \n",
       "1                dynamic datagrid binding silverlight   \n",
       "2                dynamic datagrid binding silverlight   \n",
       "3   java lang nosuchmethoderror javax servlet serv...   \n",
       "4   specified initialization vector iv match block...   \n",
       "5   selcurrentmanuf declared may inaccessible due ...   \n",
       "6                              things division zero c   \n",
       "7   asp net mvc single page application using java...   \n",
       "8                                     adapter pattern   \n",
       "9       add custom html attributes generated controls   \n",
       "10  ajax functions like load strip comments html k...   \n",
       "11                          alternate ways store data   \n",
       "12  android make spinner show item selecting items...   \n",
       "13  way using java nio interrupt inputstream read ...   \n",
       "14  backgroundworker onprogresschanged still fired...   \n",
       "15                              boolean inside select   \n",
       "16                             c overloading operator   \n",
       "17                                     c linker error   \n",
       "18  css loaded multiple html pages jquery mobile p...   \n",
       "19  cached hidden input value used instead updated...   \n",
       "\n",
       "                                                 Body  Tags  \n",
       "0   <pre><code>#include&lt;iostream&gt;\\n#include&...     2  \n",
       "1   <p>I should do binding for datagrid dynamicall...     0  \n",
       "2   <p>I should do binding for datagrid dynamicall...     0  \n",
       "3   <p>i want to have a servlet to process inputs ...     1  \n",
       "4   <p>I've had troubles using an CryptoStream for...     0  \n",
       "5   <p>i have a drop down list i am trying to use ...     6  \n",
       "6   <blockquote>\\n  <p><strong>Possible Duplicate:...     2  \n",
       "7   <p>I have recently built an single-page ASP.NE...     5  \n",
       "8   <p>I have a problem in which I have to copy da...     0  \n",
       "9   <p>I just want to add a placeholder for my gen...     6  \n",
       "10  <p>For example, <code>$('#some-div').load('htt...     5  \n",
       "11  <p>Hey guys I'm searching for an alternative w...     0  \n",
       "12  <p>This is my code:</p>\\n\\n<pre><code>    pack...     1  \n",
       "13  <p>Do you know of a way to interrupt a read fr...     1  \n",
       "14  <p>My application used <code>BackgroundWorker<...     0  \n",
       "15  <p>I have a person table filled with Person in...     0  \n",
       "16  <pre><code>//overloading operator ==\\nclass Po...     0  \n",
       "17  <p>I encounter a problem about LNK2019 when I ...     2  \n",
       "18  <p>I have implemented a <strong>Phone Gap appl...     5  \n",
       "19  <p>I have an issue with IE9 using the initial ...     5  "
      ]
     },
     "execution_count": 52,
     "metadata": {},
     "output_type": "execute_result"
    }
   ],
   "source": [
    "processed.head(20)"
   ]
  },
  {
   "cell_type": "code",
   "execution_count": 156,
   "metadata": {
    "id": "VU3zinZYi1rb"
   },
   "outputs": [
    {
     "data": {
      "text/plain": [
       "array(['implementing boundary value analysis software testing c program',\n",
       "       'dynamic datagrid binding silverlight',\n",
       "       'dynamic datagrid binding silverlight', ...,\n",
       "       'var variables variables global variables inside javascript constructor',\n",
       "       'menuinterface menu exit never assigned always default value null',\n",
       "       'nehe sdk'], dtype=object)"
      ]
     },
     "execution_count": 156,
     "metadata": {},
     "output_type": "execute_result"
    }
   ],
   "source": [
    "x = processed.Title.values\n",
    "y = processed.Tags.values\n",
    "\n",
    "x"
   ]
  },
  {
   "cell_type": "code",
   "execution_count": 54,
   "metadata": {
    "id": "rydBmGr9i6gh"
   },
   "outputs": [],
   "source": [
    "from sklearn.model_selection import train_test_split\n",
    "\n",
    "X_train, X_test, Y_train, Y_test = train_test_split(x, y, test_size = 0.20)\n",
    "X_train, X_cv, Y_train, Y_cv = train_test_split(X_train, Y_train, test_size = 0.25)"
   ]
  },
  {
   "cell_type": "code",
   "execution_count": 55,
   "metadata": {
    "id": "rw0vOmLSjmsx"
   },
   "outputs": [
    {
     "data": {
      "text/plain": [
       "((464541, 60275), (154848, 60275), (154848, 60275))"
      ]
     },
     "execution_count": 55,
     "metadata": {},
     "output_type": "execute_result"
    }
   ],
   "source": [
    "tfidf = TfidfVectorizer()\n",
    "X_train = tfidf.fit_transform(X_train)\n",
    "X_cv = tfidf.transform(X_cv)\n",
    "X_test = tfidf.transform(X_test)\n",
    "X_train.shape, X_cv.shape, X_test.shape"
   ]
  },
  {
   "cell_type": "code",
   "execution_count": 56,
   "metadata": {},
   "outputs": [
    {
     "name": "stdout",
     "output_type": "stream",
     "text": [
      "Requirement already satisfied: scikit-learn in c:\\users\\mohit\\anaconda3\\lib\\site-packages (1.0.2)\n",
      "Requirement already satisfied: joblib>=0.11 in c:\\users\\mohit\\anaconda3\\lib\\site-packages (from scikit-learn) (1.1.0)\n",
      "Requirement already satisfied: scipy>=1.1.0 in c:\\users\\mohit\\anaconda3\\lib\\site-packages (from scikit-learn) (1.9.1)\n",
      "Requirement already satisfied: threadpoolctl>=2.0.0 in c:\\users\\mohit\\anaconda3\\lib\\site-packages (from scikit-learn) (2.2.0)\n",
      "Requirement already satisfied: numpy>=1.14.6 in c:\\users\\mohit\\anaconda3\\lib\\site-packages (from scikit-learn) (1.21.5)\n",
      "Note: you may need to restart the kernel to use updated packages.\n"
     ]
    }
   ],
   "source": [
    "pip install scikit-learn"
   ]
  },
  {
   "cell_type": "code",
   "execution_count": 83,
   "metadata": {},
   "outputs": [],
   "source": [
    "#x_Train, Y_Train =  60% of the complete dataset\n",
    "#X_cv, Y_cv = 20% of the complete dataset\n",
    "#X_test, Y_test = 20% of the complete dataset"
   ]
  },
  {
   "cell_type": "code",
   "execution_count": 91,
   "metadata": {
    "id": "T-e216fVkPWZ"
   },
   "outputs": [],
   "source": [
    "#SGDC classifier\n",
    "#train + cv data\n",
    "from sklearn.metrics import accuracy_score\n",
    "score_train = []\n",
    "score_cv = []\n",
    "for i in ([1e-9, 1e-8, 0.1e-7, 1e-6, 0.00001, 0.0001, 0.001, 0.01, 0.1]):\n",
    "  clf_SGDC = SGDClassifier(alpha = i, loss = \"log\", class_weight = \"balanced\", n_jobs = -1)\n",
    "  clf_SGDC.fit(X_train, Y_train)\n",
    "  Y_predict = clf_SGDC.predict(X_train)\n",
    "  Y_predict_cv = clf_SGDC.predict(X_cv)\n",
    "  score_train.append(accuracy_score(Y_train, Y_predict))\n",
    "  score_cv.append(accuracy_score(Y_cv, Y_predict_cv))"
   ]
  },
  {
   "cell_type": "code",
   "execution_count": 93,
   "metadata": {
    "id": "QNi4aN9FnCBD"
   },
   "outputs": [
    {
     "data": {
      "image/png": "[encoded data removed]",
      "text/plain": [
       "<Figure size 640x480 with 1 Axes>"
      ]
     },
     "metadata": {},
     "output_type": "display_data"
    }
   ],
   "source": [
    "import matplotlib.pyplot as plt\n",
    "lis = [0.000000001 ,0.00000001, 0.0000001, 0.000001, 0.00001, 0.0001, 0.001]\n",
    "plt.plot(score_train[:-2], lis, label = \"Training Accuracy\")\n",
    "plt.plot(score_cv[:-2],lis,label = \"CV Accuracy\")\n",
    "plt.legend()\n",
    "plt.show()"
   ]
  },
  {
   "cell_type": "code",
   "execution_count": 72,
   "metadata": {
    "id": "InTLB9WConz0"
   },
   "outputs": [],
   "source": [
    "#SGDC classifier\n",
    "#train + test data\n",
    "best_alpha = 1e-7"
   ]
  },
  {
   "cell_type": "code",
   "execution_count": 73,
   "metadata": {
    "id": "ufnbRAb7o4th"
   },
   "outputs": [
    {
     "name": "stdout",
     "output_type": "stream",
     "text": [
      "The accuracy of the model using SGDC Classifier is:  0.7138613349865675\n"
     ]
    }
   ],
   "source": [
    "from sklearn.metrics import confusion_matrix\n",
    "clf = SGDClassifier(alpha = best_alpha, loss = \"log\", class_weight = \"balanced\", n_jobs = -1)\n",
    "clf.fit(X_train, Y_train)\n",
    "Y_predict = clf.predict(X_test)\n",
    "acc = accuracy_score(Y_test, Y_predict)\n",
    "cm = confusion_matrix(Y_test, Y_predict)\n",
    "print(\"The accuracy of the model using SGDC Classifier is: \", acc)"
   ]
  },
  {
   "cell_type": "code",
   "execution_count": 69,
   "metadata": {
    "id": "9ayyNk7Dq-Gk"
   },
   "outputs": [
    {
     "data": {
      "text/plain": [
       "<AxesSubplot:>"
      ]
     },
     "execution_count": 69,
     "metadata": {},
     "output_type": "execute_result"
    },
    {
     "data": {
      "image/png": "[encoded data removed]",
      "text/plain": [
       "<Figure size 640x480 with 2 Axes>"
      ]
     },
     "metadata": {},
     "output_type": "display_data"
    }
   ],
   "source": [
    "x_axis = [\"c#\" , \"java\", \"c++\", \"c\", \"ios\",\"javascript\",\"asp.net\"]\n",
    "y_axis = [\"c#\" , \"java\", \"c++\", \"c\", \"ios\",\"javascript\",\"asp.net\"]\n",
    "sns.heatmap(cm, annot = True, fmt = \"d\", xticklabels = x_axis, yticklabels = y_axis)"
   ]
  },
  {
   "cell_type": "code",
   "execution_count": 98,
   "metadata": {
    "id": "uaGQNCBOsVPH"
   },
   "outputs": [],
   "source": [
    "#SGDC classifier\n",
    "#train + cv data and without log parameter\n",
    "score_train = []\n",
    "score_cv = []\n",
    "for i in ([1e-9, 1e-8, 1e-7, 1e-6, 0.00001, 0.0001]):\n",
    "    clf = SGDClassifier(alpha = i, class_weight=\"balanced\", n_jobs=-1)\n",
    "    clf.fit(X_train, Y_train)\n",
    "    Y_predict = clf.predict(X_train)\n",
    "    Y_predict_cv = clf.predict(X_cv)\n",
    "    score_train.append(accuracy_score(Y_train, Y_predict))\n",
    "    score_cv.append(accuracy_score(Y_cv, Y_predict_cv))"
   ]
  },
  {
   "cell_type": "code",
   "execution_count": 100,
   "metadata": {
    "id": "ZCELBqQ0sW-y"
   },
   "outputs": [
    {
     "data": {
      "image/png": "[encoded data removed]",
      "text/plain": [
       "<Figure size 640x480 with 1 Axes>"
      ]
     },
     "metadata": {},
     "output_type": "display_data"
    }
   ],
   "source": [
    "lis = [0.000000001 ,0.00000001, 0.0000001, 0.000001, 0.00001, 0.0001]\n",
    "plt.plot(lis, score_train, label = \"Train Accuracy\")\n",
    "plt.plot(lis, score_cv, label = \"Cv Accuracy\")\n",
    "plt.legend()\n",
    "plt.show()"
   ]
  },
  {
   "cell_type": "code",
   "execution_count": 74,
   "metadata": {
    "id": "qbtedsOtsXf4"
   },
   "outputs": [],
   "source": [
    "#SGDC classifier\n",
    "#train + cv data\n",
    "best_alpha = 1e-6"
   ]
  },
  {
   "cell_type": "code",
   "execution_count": 75,
   "metadata": {
    "id": "gEihwfnfsZCS"
   },
   "outputs": [
    {
     "name": "stdout",
     "output_type": "stream",
     "text": [
      "The Accuracy of model is :  0.7103611283323\n"
     ]
    },
    {
     "data": {
      "text/plain": [
       "<AxesSubplot:>"
      ]
     },
     "execution_count": 75,
     "metadata": {},
     "output_type": "execute_result"
    },
    {
     "data": {
      "image/png": "[encoded data removed]",
      "text/plain": [
       "<Figure size 640x480 with 2 Axes>"
      ]
     },
     "metadata": {},
     "output_type": "display_data"
    }
   ],
   "source": [
    "clf = SGDClassifier(alpha = best_alpha, class_weight=\"balanced\", n_jobs=-1)\n",
    "clf.fit(X_train, Y_train)\n",
    "Y_predict = clf.predict(X_test)\n",
    "acc = accuracy_score(Y_test, Y_predict)\n",
    "cm = confusion_matrix(Y_test, Y_predict)\n",
    "print(\"The Accuracy of model is : \", acc)\n",
    "sns.heatmap(cm, annot = True, fmt=\"d\", xticklabels = x_axis, yticklabels = y_axis)"
   ]
  },
  {
   "cell_type": "markdown",
   "metadata": {
    "id": "z0uuyGH2CUbP"
   },
   "source": [
    "For Bigrams"
   ]
  },
  {
   "cell_type": "code",
   "execution_count": 105,
   "metadata": {
    "id": "P6-FnFSHsa3B"
   },
   "outputs": [
    {
     "data": {
      "text/plain": [
       "((464541,), (154848,), (154848,))"
      ]
     },
     "execution_count": 105,
     "metadata": {},
     "output_type": "execute_result"
    }
   ],
   "source": [
    "import random\n",
    "random.seed(42)\n",
    "XB_train, XB_test, yB_train, yB_test = train_test_split(x, y, test_size=0.20)\n",
    "XB_train, XB_cv, yB_train, yB_cv = train_test_split(XB_train, yB_train, test_size=0.25)\n",
    "XB_train.shape, XB_test.shape, XB_cv.shape\n"
   ]
  },
  {
   "cell_type": "code",
   "execution_count": 106,
   "metadata": {
    "id": "f36QXYQCCcdh"
   },
   "outputs": [
    {
     "data": {
      "text/plain": [
       "((464541, 886775), (154848, 886775), (154848, 886775))"
      ]
     },
     "execution_count": 106,
     "metadata": {},
     "output_type": "execute_result"
    }
   ],
   "source": [
    "tfidf = TfidfVectorizer(ngram_range=(2,2))\n",
    "XB_train = tfidf.fit_transform(XB_train)\n",
    "XB_cv = tfidf.transform(XB_cv)\n",
    "XB_test = tfidf.transform(XB_test)\n",
    "XB_train.shape, XB_cv.shape, XB_test.shape"
   ]
  },
  {
   "cell_type": "code",
   "execution_count": 107,
   "metadata": {
    "id": "HLiPYcU0CdGy"
   },
   "outputs": [],
   "source": [
    "score_train = []\n",
    "score_cv = []\n",
    "for i in ([1e-9, 1e-8, 1e-7, 1e-6, 0.00001, 0.0001]):\n",
    "    clf = SGDClassifier(alpha = i, loss = \"log\", class_weight=\"balanced\", n_jobs=-1)\n",
    "    clf.fit(XB_train, yB_train)\n",
    "    yB_predict = clf.predict(XB_train)\n",
    "    yB_predict_cv = clf.predict(XB_cv)\n",
    "    score_train.append(accuracy_score(yB_train, yB_predict))\n",
    "    score_cv.append(accuracy_score(yB_cv, yB_predict_cv))"
   ]
  },
  {
   "cell_type": "code",
   "execution_count": 109,
   "metadata": {
    "id": "G811-qt6CfdF"
   },
   "outputs": [
    {
     "data": {
      "image/png": "[encoded data removed]",
      "text/plain": [
       "<Figure size 640x480 with 1 Axes>"
      ]
     },
     "metadata": {},
     "output_type": "display_data"
    }
   ],
   "source": [
    "lis = [0.000000001 ,0.00000001, 0.0000001, 0.000001, 0.00001, 0.0001]\n",
    "plt.plot(score_train, lis, label = \"Train Accuracy\")\n",
    "plt.plot(score_cv, lis, label = \"Cv Accuracy\")\n",
    "plt.legend()\n",
    "plt.show()\n"
   ]
  },
  {
   "cell_type": "markdown",
   "metadata": {
    "id": "z0uuyGH2CUbP"
   },
   "source": [
    "For Trigrams"
   ]
  },
  {
   "cell_type": "code",
   "execution_count": 110,
   "metadata": {},
   "outputs": [
    {
     "data": {
      "text/plain": [
       "((464541,), (154848,), (154848,))"
      ]
     },
     "execution_count": 110,
     "metadata": {},
     "output_type": "execute_result"
    }
   ],
   "source": [
    "import random\n",
    "random.seed(42)\n",
    "XT_train, XT_test, yT_train, yT_test = train_test_split(x, y, test_size=0.20)\n",
    "XT_train, XT_cv, yT_train, yT_cv = train_test_split(XT_train, yT_train, test_size=0.25)\n",
    "XT_train.shape, XT_test.shape, XT_cv.shape"
   ]
  },
  {
   "cell_type": "code",
   "execution_count": 111,
   "metadata": {},
   "outputs": [
    {
     "data": {
      "text/plain": [
       "((464541, 1370349), (154848, 1370349), (154848, 1370349))"
      ]
     },
     "execution_count": 111,
     "metadata": {},
     "output_type": "execute_result"
    }
   ],
   "source": [
    "tfidf = TfidfVectorizer(ngram_range=(3,3))\n",
    "XT_train = tfidf.fit_transform(XT_train)\n",
    "XT_cv = tfidf.transform(XT_cv)\n",
    "XT_test = tfidf.transform(XT_test)\n",
    "XT_train.shape, XT_cv.shape, XT_test.shape"
   ]
  },
  {
   "cell_type": "code",
   "execution_count": 113,
   "metadata": {},
   "outputs": [],
   "source": [
    "score_train = []\n",
    "score_cv = []\n",
    "for i in ([1e-9, 1e-8, 1e-7, 1e-6, 0.00001, 0.0001]):\n",
    "    clf = SGDClassifier(alpha = i, loss = \"log\", class_weight=\"balanced\", n_jobs=-1)\n",
    "    clf.fit(XT_train, yT_train)\n",
    "    yT_predict = clf.predict(XT_train)\n",
    "    yT_predict_cv = clf.predict(XT_cv)\n",
    "    score_train.append(accuracy_score(yT_train, yT_predict))\n",
    "    score_cv.append(accuracy_score(yT_cv, yT_predict_cv))"
   ]
  },
  {
   "cell_type": "code",
   "execution_count": 114,
   "metadata": {},
   "outputs": [
    {
     "data": {
      "image/png": "[encoded data removed]",
      "text/plain": [
       "<Figure size 640x480 with 1 Axes>"
      ]
     },
     "metadata": {},
     "output_type": "display_data"
    }
   ],
   "source": [
    "lis = [0.000000001 ,0.00000001, 0.0000001, 0.000001, 0.00001, 0.0001]\n",
    "plt.plot(score_train, lis, label = \"Train Accuracy\")\n",
    "plt.plot(score_cv, lis, label = \"Cv Accuracy\")\n",
    "plt.legend()\n",
    "plt.show()\n"
   ]
  },
  {
   "cell_type": "markdown",
   "metadata": {
    "id": "z0uuyGH2CUbP"
   },
   "source": [
    "Case of Overfitting - ytest+ ypredict"
   ]
  },
  {
   "cell_type": "code",
   "execution_count": 117,
   "metadata": {},
   "outputs": [],
   "source": [
    "from sklearn.model_selection import train_test_split\n",
    "\n",
    "X_train, X_test, Y_train, Y_test = train_test_split(x, y, test_size = 0.20)\n",
    "X_train, X_cv, Y_train, Y_cv = train_test_split(X_train, Y_train, test_size = 0.25)"
   ]
  },
  {
   "cell_type": "code",
   "execution_count": 118,
   "metadata": {},
   "outputs": [
    {
     "data": {
      "text/plain": [
       "((464541, 60346), (154848, 60346), (154848, 60346))"
      ]
     },
     "execution_count": 118,
     "metadata": {},
     "output_type": "execute_result"
    }
   ],
   "source": [
    "tfidf = TfidfVectorizer()\n",
    "X_train = tfidf.fit_transform(X_train)\n",
    "X_cv = tfidf.transform(X_cv)\n",
    "X_test = tfidf.transform(X_test)\n",
    "X_train.shape, X_cv.shape, X_test.shape"
   ]
  },
  {
   "cell_type": "code",
   "execution_count": 119,
   "metadata": {
    "id": "fEtmCjTFChzO"
   },
   "outputs": [],
   "source": [
    "best_alpha = 1e-6"
   ]
  },
  {
   "cell_type": "code",
   "execution_count": 163,
   "metadata": {
    "id": "U5QVwQSNCh6O"
   },
   "outputs": [
    {
     "name": "stdout",
     "output_type": "stream",
     "text": [
      "The Accuracy of model is :  0.7232382723703245\n"
     ]
    }
   ],
   "source": [
    "clf = SGDClassifier(alpha = best_alpha, loss = \"log\", class_weight=\"balanced\", n_jobs=-1)\n",
    "clf.fit(X_train, Y_train)\n",
    "y_predict = clf.predict(X_test)\n",
    "acc = accuracy_score(Y_test, y_predict)\n",
    "cm = confusion_matrix(Y_test, y_predict)\n",
    "print(\"The Accuracy of model is : \", acc)"
   ]
  },
  {
   "cell_type": "code",
   "execution_count": 164,
   "metadata": {},
   "outputs": [],
   "source": [
    "#tfidf = TfidfVectorizer()\n",
    "#X_test = tfidf.transform(['Create Non-Culture Based ResourceManager for ASP.Net'])\n",
    "#X_test[0]\n",
    "#lf.predict(['Create Non-Culture Based ResourceManager for ASP.Net'])"
   ]
  },
  {
   "cell_type": "markdown",
   "metadata": {
    "id": "z0uuyGH2CUbP"
   },
   "source": [
    "Random Forest"
   ]
  },
  {
   "cell_type": "code",
   "execution_count": null,
   "metadata": {},
   "outputs": [],
   "source": [
    "#Random Forest\n",
    "#from sklearn.ensemble import RandomForestClassifier\n",
    "#from sklearn.metrics import accuracy_score\n",
    "#clf = RandomForestClassifier(n_estimators = 100, random_state = 0)\n",
    "#clf.fit(X_train, y_train)\n",
    "#y_predict = clf.predict(X_test)\n",
    "#acc = accuracy_score(y_test, y_predict)\n",
    "#cm = confusion_matrix(y_test, y_predict)\n",
    "#print(\"The Accuracy of model is : \", acc\n",
    "print(1)"
   ]
  },
  {
   "cell_type": "code",
   "execution_count": 125,
   "metadata": {},
   "outputs": [
    {
     "name": "stdout",
     "output_type": "stream",
     "text": [
      "The Accuracy of model is :  0.6797504649721017\n"
     ]
    }
   ],
   "source": [
    "#Random Forest\n",
    "from sklearn.ensemble import RandomForestClassifier\n",
    "from sklearn.metrics import accuracy_score\n",
    "clf = RandomForestClassifier(n_estimators = 8, random_state = 8)\n",
    "clf.fit(X_train, Y_train)\n",
    "y_predict = clf.predict(X_test)\n",
    "acc = accuracy_score(Y_test, y_predict)\n",
    "print(\"The Accuracy of model is : \", acc)"
   ]
  },
  {
   "cell_type": "code",
   "execution_count": 126,
   "metadata": {},
   "outputs": [
    {
     "name": "stdout",
     "output_type": "stream",
     "text": [
      "The Accuracy of model is :  0.47216625335813184\n"
     ]
    }
   ],
   "source": [
    "#Random Forest\n",
    "from sklearn.ensemble import RandomForestClassifier\n",
    "from sklearn.metrics import accuracy_score\n",
    "clf = RandomForestClassifier(criterion = \"entropy\", n_estimators = 8, max_depth = 15, random_state = 8)\n",
    "clf.fit(X_train, Y_train)\n",
    "y_predict = clf.predict(X_test)\n",
    "acc = accuracy_score(Y_test, y_predict)\n",
    "print(\"The Accuracy of model is : \", acc)"
   ]
  },
  {
   "cell_type": "markdown",
   "metadata": {
    "id": "z0uuyGH2CUbP"
   },
   "source": [
    "Decision Tree"
   ]
  },
  {
   "cell_type": "code",
   "execution_count": 127,
   "metadata": {},
   "outputs": [
    {
     "name": "stdout",
     "output_type": "stream",
     "text": [
      "The Accuracy of model is :  0.6266919818144244\n"
     ]
    }
   ],
   "source": [
    "#Decision Tree\n",
    "from sklearn.metrics import accuracy_score\n",
    "from sklearn.tree import DecisionTreeClassifier\n",
    "clf = DecisionTreeClassifier(criterion = \"entropy\")\n",
    "clf.fit(X_train, Y_train)\n",
    "Y_predict = clf.predict(X_test)\n",
    "acc = accuracy_score(Y_test, Y_predict)\n",
    "print(\"The Accuracy of model is : \", acc)"
   ]
  },
  {
   "cell_type": "markdown",
   "metadata": {
    "id": "z0uuyGH2CUbP"
   },
   "source": [
    "XGB Classifier"
   ]
  },
  {
   "cell_type": "code",
   "execution_count": null,
   "metadata": {},
   "outputs": [],
   "source": [
    "import xgboost"
   ]
  },
  {
   "cell_type": "code",
   "execution_count": 169,
   "metadata": {},
   "outputs": [
    {
     "ename": "ModuleNotFoundError",
     "evalue": "No module named 'xgboost'",
     "output_type": "error",
     "traceback": [
      "\u001b[1;31m---------------------------------------------------------------------------\u001b[0m",
      "\u001b[1;31mModuleNotFoundError\u001b[0m                       Traceback (most recent call last)",
      "\u001b[1;32m~\\AppData\\Local\\Temp\\ipykernel_2324\\688501960.py\u001b[0m in \u001b[0;36m<module>\u001b[1;34m\u001b[0m\n\u001b[0;32m      1\u001b[0m \u001b[1;32mfrom\u001b[0m \u001b[0msklearn\u001b[0m\u001b[1;33m.\u001b[0m\u001b[0mmodel_selection\u001b[0m \u001b[1;32mimport\u001b[0m \u001b[0mcross_validate\u001b[0m\u001b[1;33m,\u001b[0m\u001b[0mGridSearchCV\u001b[0m\u001b[1;33m\u001b[0m\u001b[1;33m\u001b[0m\u001b[0m\n\u001b[0;32m      2\u001b[0m \u001b[1;32mfrom\u001b[0m \u001b[0msklearn\u001b[0m\u001b[1;33m.\u001b[0m\u001b[0mmetrics\u001b[0m \u001b[1;32mimport\u001b[0m \u001b[0mconfusion_matrix\u001b[0m \u001b[1;33m,\u001b[0m \u001b[0maccuracy_score\u001b[0m\u001b[1;33m\u001b[0m\u001b[1;33m\u001b[0m\u001b[0m\n\u001b[1;32m----> 3\u001b[1;33m \u001b[1;32mimport\u001b[0m \u001b[0mxgboost\u001b[0m\u001b[1;33m\u001b[0m\u001b[1;33m\u001b[0m\u001b[0m\n\u001b[0m\u001b[0;32m      4\u001b[0m \u001b[1;32mfrom\u001b[0m \u001b[0mxgboost\u001b[0m \u001b[1;32mimport\u001b[0m \u001b[0mXGBClassifier\u001b[0m\u001b[1;33m\u001b[0m\u001b[1;33m\u001b[0m\u001b[0m\n\u001b[0;32m      5\u001b[0m \u001b[0mreg\u001b[0m\u001b[1;33m=\u001b[0m\u001b[0mXGBClassifier\u001b[0m\u001b[1;33m(\u001b[0m\u001b[1;33m)\u001b[0m\u001b[1;33m\u001b[0m\u001b[1;33m\u001b[0m\u001b[0m\n",
      "\u001b[1;31mModuleNotFoundError\u001b[0m: No module named 'xgboost'"
     ]
    }
   ],
   "source": [
    "from sklearn.model_selection import cross_validate,GridSearchCV\n",
    "from sklearn.metrics import confusion_matrix , accuracy_score\n",
    "\n",
    "\n",
    "\n",
    "from xgboost import XGBClassifier\n",
    "reg=XGBClassifier()\n",
    "clf=GridSearchCV(reg,params,cv=10,n_jobs=-1,verbose=1)\n",
    "clf.fit(X_train, Y_train)\n",
    "y_predict=clf.predict(X_train)\n",
    "t_predict=clf.predict(X_test)\n",
    "acc1 = accuracy_score(y_predict,Y_train)\n",
    "acc2 = accuracy_score(t_predict,Y_test)\n",
    "print(\"The Accuracy of model is : \", acc2)\n",
    "print(\"The Accuracy of model is : \", acc1)\n",
    "clf.best_params_"
   ]
  },
  {
   "cell_type": "markdown",
   "metadata": {
    "id": "z0uuyGH2CUbP"
   },
   "source": [
    "KNN Clustering"
   ]
  },
  {
   "cell_type": "code",
   "execution_count": null,
   "metadata": {},
   "outputs": [],
   "source": [
    "#Predicting values of K\n",
    "from sklearn.neighbors import KNeighborsClassifier\n",
    "error_rate = []\n",
    "# Will take some time\n",
    "for i in range(1, 40):\n",
    "    knn = KNeighborsClassifier(n_neighbors = i)\n",
    "    knn.fit(X_train,Y_train)\n",
    "    pred_i = knn.predict(X_test)\n",
    "    error_rate.append(np.mean(pred_i != Y_test))\n",
    "\n",
    "plt.figure(figsize =(10, 6))\n",
    "plt.plot(range(1, 40), error_rate, color ='blue', linestyle ='dashed', \n",
    "         marker ='o',markerfacecolor ='red', markersize = 10)\n",
    "plt.title('Error Rate vs. K Value')\n",
    "plt.xlabel('K')\n",
    "plt.ylabel('Error Rate')\n"
   ]
  },
  {
   "cell_type": "code",
   "execution_count": null,
   "metadata": {},
   "outputs": [],
   "source": [
    "#From above value of K = 1\n",
    "from sklearn.neighbors import KNeighborsClassifier\n",
    "knn = KNeighborsClassifier(n_neighbors = 1)\n",
    "knn.fit(X_train, Y_train)\n",
    "y_predict = knn.predict(X_test)\n",
    "acc1 = accuracy_score(y_predict,Y_train)\n",
    "acc2 = accuracy_score(y_predict,Y_test)\n",
    "print(\"The Accuracy of model is : \", max(acc1,acc2))"
   ]
  },
  {
   "cell_type": "code",
   "execution_count": null,
   "metadata": {},
   "outputs": [],
   "source": []
  }
 ],
 "metadata": {
  "kernelspec": {
   "display_name": "Python 3 (ipykernel)",
   "language": "python",
   "name": "python3"
  },
  "language_info": {
   "codemirror_mode": {
    "name": "ipython",
    "version": 3
   },
   "file_extension": ".py",
   "mimetype": "text/x-python",
   "name": "python",
   "nbconvert_exporter": "python",
   "pygments_lexer": "ipython3",
   "version": "3.9.13"
  }
 },
 "nbformat": 4,
 "nbformat_minor": 4
}
